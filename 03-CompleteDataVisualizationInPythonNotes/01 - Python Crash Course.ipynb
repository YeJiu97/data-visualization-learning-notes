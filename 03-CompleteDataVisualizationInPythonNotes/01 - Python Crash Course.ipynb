{
 "cells": [
  {
   "cell_type": "markdown",
   "id": "58c085cf-0b81-41a9-8c68-dea75decc517",
   "metadata": {},
   "source": [
    "# Python Crash Course"
   ]
  },
  {
   "cell_type": "markdown",
   "id": "b561cae5-2458-441b-b216-e59ded41211c",
   "metadata": {},
   "source": [
    "## Data Types"
   ]
  },
  {
   "cell_type": "markdown",
   "id": "3c25f493-784c-4f71-8f62-307527033c43",
   "metadata": {},
   "source": [
    "### Numbers"
   ]
  },
  {
   "cell_type": "code",
   "execution_count": 1,
   "id": "0f0e5410-3c0c-4e0c-a9a8-f34fc24e7871",
   "metadata": {
    "tags": []
   },
   "outputs": [
    {
     "data": {
      "text/plain": [
       "int"
      ]
     },
     "execution_count": 1,
     "metadata": {},
     "output_type": "execute_result"
    }
   ],
   "source": [
    "type(2)"
   ]
  },
  {
   "cell_type": "code",
   "execution_count": 2,
   "id": "df1f4286-e300-44eb-b516-b3e9179458b1",
   "metadata": {
    "tags": []
   },
   "outputs": [
    {
     "data": {
      "text/plain": [
       "str"
      ]
     },
     "execution_count": 2,
     "metadata": {},
     "output_type": "execute_result"
    }
   ],
   "source": [
    "type(\"2\")"
   ]
  },
  {
   "cell_type": "code",
   "execution_count": 3,
   "id": "09c268fa-1ac2-49c0-ab57-2bf14928de61",
   "metadata": {
    "tags": []
   },
   "outputs": [
    {
     "data": {
      "text/plain": [
       "str"
      ]
     },
     "execution_count": 3,
     "metadata": {},
     "output_type": "execute_result"
    }
   ],
   "source": [
    "type(\"a\")"
   ]
  },
  {
   "cell_type": "code",
   "execution_count": 4,
   "id": "199c6024-32f6-434b-8e30-ab67edd46366",
   "metadata": {
    "tags": []
   },
   "outputs": [
    {
     "data": {
      "text/plain": [
       "float"
      ]
     },
     "execution_count": 4,
     "metadata": {},
     "output_type": "execute_result"
    }
   ],
   "source": [
    "type(0.333)"
   ]
  },
  {
   "cell_type": "code",
   "execution_count": 5,
   "id": "8ea0e1b2-73e5-48f2-a403-f32f4b3d5e4b",
   "metadata": {
    "tags": []
   },
   "outputs": [
    {
     "data": {
      "text/plain": [
       "float"
      ]
     },
     "execution_count": 5,
     "metadata": {},
     "output_type": "execute_result"
    }
   ],
   "source": [
    "type(0.333333333333333333333333333333333333333333)"
   ]
  },
  {
   "cell_type": "code",
   "execution_count": 6,
   "id": "04b85b45-1ff6-4fd6-be53-ab66cfadbcd5",
   "metadata": {
    "tags": []
   },
   "outputs": [
    {
     "data": {
      "text/plain": [
       "4"
      ]
     },
     "execution_count": 6,
     "metadata": {},
     "output_type": "execute_result"
    }
   ],
   "source": [
    "2 + 2"
   ]
  },
  {
   "cell_type": "code",
   "execution_count": 7,
   "id": "c8ed9002-0c8f-4c47-bdb1-acf5baf039a5",
   "metadata": {
    "tags": []
   },
   "outputs": [
    {
     "data": {
      "text/plain": [
       "1.0"
      ]
     },
     "execution_count": 7,
     "metadata": {},
     "output_type": "execute_result"
    }
   ],
   "source": [
    "2 / 2"
   ]
  },
  {
   "cell_type": "code",
   "execution_count": 8,
   "id": "c99bab55-23c1-475e-8ea1-362cb870571b",
   "metadata": {
    "tags": []
   },
   "outputs": [
    {
     "data": {
      "text/plain": [
       "1"
      ]
     },
     "execution_count": 8,
     "metadata": {},
     "output_type": "execute_result"
    }
   ],
   "source": [
    "int(2 / 2)"
   ]
  },
  {
   "cell_type": "code",
   "execution_count": 9,
   "id": "73da6f16-892f-45a1-a1a7-12fa8365a233",
   "metadata": {
    "tags": []
   },
   "outputs": [
    {
     "data": {
      "text/plain": [
       "2"
      ]
     },
     "execution_count": 9,
     "metadata": {},
     "output_type": "execute_result"
    }
   ],
   "source": [
    "5 // 2"
   ]
  },
  {
   "cell_type": "code",
   "execution_count": 10,
   "id": "b31802fa-329b-4a31-a82a-d3fe9c7f9c85",
   "metadata": {
    "tags": []
   },
   "outputs": [
    {
     "data": {
      "text/plain": [
       "1"
      ]
     },
     "execution_count": 10,
     "metadata": {},
     "output_type": "execute_result"
    }
   ],
   "source": [
    "5 % 2"
   ]
  },
  {
   "cell_type": "code",
   "execution_count": 11,
   "id": "e7f51b67-4c7c-4070-bf41-f2a10f28b721",
   "metadata": {
    "tags": []
   },
   "outputs": [
    {
     "data": {
      "text/plain": [
       "100"
      ]
     },
     "execution_count": 11,
     "metadata": {},
     "output_type": "execute_result"
    }
   ],
   "source": [
    "10 ** 2"
   ]
  },
  {
   "cell_type": "code",
   "execution_count": 12,
   "id": "cb804ac5-18ca-4f01-8fca-e9f8ae04a1fb",
   "metadata": {
    "tags": []
   },
   "outputs": [
    {
     "data": {
      "text/plain": [
       "8"
      ]
     },
     "execution_count": 12,
     "metadata": {},
     "output_type": "execute_result"
    }
   ],
   "source": [
    "10 ^ 2"
   ]
  },
  {
   "cell_type": "markdown",
   "id": "0ddff727-fcb8-42c1-977a-9e2b99695d2d",
   "metadata": {},
   "source": [
    "在Python中，`^`运算符用于执行按位异或（XOR）运算。它逐位比较两个操作数，并返回一个新的整数，其中每个位上的值取决于两个操作数相应位的异或结果。\n",
    "\n",
    "以下是`^`运算符的示例使用：\n",
    "\n",
    "```python\n",
    "a = 5  # 二进制表示为 0101\n",
    "b = 3  # 二进制表示为 0011\n",
    "\n",
    "result = a ^ b\n",
    "print(result)  # 输出：6  （二进制表示为 0110）\n",
    "```\n",
    "\n",
    "在上述示例中，`a`和`b`是两个整数。通过对它们进行按位异或运算，使用`^`运算符，得到的结果是6。这是因为二进制数0101和0011的按位异或结果是0110。\n",
    "\n",
    "请注意，`^`运算符也可以用于对整数进行加密和解密操作，或在某些位操作场景中使用。在逻辑运算中，`^`运算符不同于`**`运算符，后者用于计算幂运算。"
   ]
  },
  {
   "cell_type": "code",
   "execution_count": 26,
   "id": "c3a7c8d3-bce2-4e3b-874d-7aa7152cfdcf",
   "metadata": {
    "tags": []
   },
   "outputs": [
    {
     "data": {
      "text/plain": [
       "2"
      ]
     },
     "execution_count": 26,
     "metadata": {},
     "output_type": "execute_result"
    }
   ],
   "source": [
    "# 不要使用关键字作为参数，jupyter lab可以运行，但是会导致后续的错误\n",
    "float = 2\n",
    "\n",
    "float"
   ]
  },
  {
   "cell_type": "code",
   "execution_count": 27,
   "id": "b964cdc8-f0f1-4b13-9214-6ab8d0eea171",
   "metadata": {
    "tags": []
   },
   "outputs": [],
   "source": [
    "# 将其删除\n",
    "del float"
   ]
  },
  {
   "cell_type": "code",
   "execution_count": 28,
   "id": "99300e78-b8ff-45d0-ac20-f7dff6479b72",
   "metadata": {
    "tags": []
   },
   "outputs": [
    {
     "data": {
      "text/plain": [
       "float"
      ]
     },
     "execution_count": 28,
     "metadata": {},
     "output_type": "execute_result"
    }
   ],
   "source": [
    "float"
   ]
  },
  {
   "cell_type": "code",
   "execution_count": 30,
   "id": "06929f99-7da0-41ff-a921-d89327673333",
   "metadata": {
    "tags": []
   },
   "outputs": [
    {
     "data": {
      "text/plain": [
       "2.0"
      ]
     },
     "execution_count": 30,
     "metadata": {},
     "output_type": "execute_result"
    }
   ],
   "source": [
    "float(2)"
   ]
  },
  {
   "cell_type": "markdown",
   "id": "2ce51377-a893-4ea4-a495-ba8fbbcf20d7",
   "metadata": {},
   "source": [
    "### String"
   ]
  },
  {
   "cell_type": "code",
   "execution_count": 13,
   "id": "f774371d-cc74-4ea6-aa0a-138b9140ce5b",
   "metadata": {
    "tags": []
   },
   "outputs": [],
   "source": [
    "# 这是一段注释，不会打印任何的东西"
   ]
  },
  {
   "cell_type": "code",
   "execution_count": 14,
   "id": "f881e702-5d2f-4456-a6e9-3ee29d9d8cfc",
   "metadata": {
    "tags": []
   },
   "outputs": [
    {
     "data": {
      "text/plain": [
       "'This is a string'"
      ]
     },
     "execution_count": 14,
     "metadata": {},
     "output_type": "execute_result"
    }
   ],
   "source": [
    "\"This is a string\""
   ]
  },
  {
   "cell_type": "code",
   "execution_count": 15,
   "id": "0cf755c9-3433-4996-89c6-171ebbf22e14",
   "metadata": {
    "tags": []
   },
   "outputs": [
    {
     "data": {
      "text/plain": [
       "'This is also a string'"
      ]
     },
     "execution_count": 15,
     "metadata": {},
     "output_type": "execute_result"
    }
   ],
   "source": [
    "'This is also a string'"
   ]
  },
  {
   "cell_type": "code",
   "execution_count": 16,
   "id": "af496edb-8f5b-4e56-b857-561821e150d8",
   "metadata": {
    "tags": []
   },
   "outputs": [
    {
     "data": {
      "text/plain": [
       "\"John's birthday is 1997.02.03\""
      ]
     },
     "execution_count": 16,
     "metadata": {},
     "output_type": "execute_result"
    }
   ],
   "source": [
    "\"John's birthday is 1997.02.03\""
   ]
  },
  {
   "cell_type": "code",
   "execution_count": 17,
   "id": "e316a9bf-d821-429c-8ff4-baa22a56dacc",
   "metadata": {
    "tags": []
   },
   "outputs": [
    {
     "ename": "SyntaxError",
     "evalue": "unterminated string literal (detected at line 1) (3648561942.py, line 1)",
     "output_type": "error",
     "traceback": [
      "\u001b[1;36m  Cell \u001b[1;32mIn[17], line 1\u001b[1;36m\u001b[0m\n\u001b[1;33m    \"Jobs' birthday is 199.02.03'  # an error will happen\u001b[0m\n\u001b[1;37m    ^\u001b[0m\n\u001b[1;31mSyntaxError\u001b[0m\u001b[1;31m:\u001b[0m unterminated string literal (detected at line 1)\n"
     ]
    }
   ],
   "source": [
    "\"Jobs' birthday is 199.02.03'  # an error will happen"
   ]
  },
  {
   "cell_type": "markdown",
   "id": "fb4ef9f2-1987-48dc-b8ec-dd197d4acc89",
   "metadata": {},
   "source": [
    "所以 \"\" 和 '' 各自是成对的。"
   ]
  },
  {
   "cell_type": "code",
   "execution_count": 18,
   "id": "3d6a2638-125e-4547-b08e-d2116c219f96",
   "metadata": {
    "tags": []
   },
   "outputs": [],
   "source": [
    "string = \"This is a string and map to a variable\""
   ]
  },
  {
   "cell_type": "code",
   "execution_count": 23,
   "id": "3063a368-62ee-4341-a4e3-984a8495ec2d",
   "metadata": {
    "tags": []
   },
   "outputs": [
    {
     "name": "stdout",
     "output_type": "stream",
     "text": [
      "This is John's Phone\n"
     ]
    }
   ],
   "source": [
    "# 可以使用转移符号\n",
    "print('This is John\\'s Phone')"
   ]
  },
  {
   "cell_type": "code",
   "execution_count": 19,
   "id": "c49cf29e-f586-429d-ad91-fc8572bbbd17",
   "metadata": {
    "tags": []
   },
   "outputs": [
    {
     "data": {
      "text/plain": [
       "'This is a string and map to a variable'"
      ]
     },
     "execution_count": 19,
     "metadata": {},
     "output_type": "execute_result"
    }
   ],
   "source": [
    "string"
   ]
  },
  {
   "cell_type": "code",
   "execution_count": 21,
   "id": "1d51770e-b365-4af0-97fd-08d3f7b3b49f",
   "metadata": {
    "tags": []
   },
   "outputs": [
    {
     "name": "stdout",
     "output_type": "stream",
     "text": [
      "Can also print like that This is a string and map to a variable\n"
     ]
    }
   ],
   "source": [
    "print(\"Can also print like that {}\".format(string))"
   ]
  },
  {
   "cell_type": "code",
   "execution_count": 22,
   "id": "521a5199-5c83-4a96-8c96-7a2e830681b2",
   "metadata": {
    "tags": []
   },
   "outputs": [
    {
     "name": "stdout",
     "output_type": "stream",
     "text": [
      "Or can also print like that This is a string and map to a variable\n"
     ]
    }
   ],
   "source": [
    "print(f\"Or can also print like that {string}\")"
   ]
  },
  {
   "cell_type": "code",
   "execution_count": 24,
   "id": "7dff0302-5ca9-4f5f-822c-2068eab9d93c",
   "metadata": {
    "tags": []
   },
   "outputs": [
    {
     "name": "stdout",
     "output_type": "stream",
     "text": [
      "Hello World\n"
     ]
    }
   ],
   "source": [
    "# 可以使用加号来进行粘结\n",
    "print(\"Hello\" + \" \" + \"World\")"
   ]
  },
  {
   "cell_type": "code",
   "execution_count": 25,
   "id": "7fa1b902-5759-458a-9ce8-19c924930324",
   "metadata": {
    "tags": []
   },
   "outputs": [
    {
     "name": "stdout",
     "output_type": "stream",
     "text": [
      "Hello World\n"
     ]
    }
   ],
   "source": [
    "# 同理\n",
    "word_01 = \"Hello\"\n",
    "word_02 = \"World\"\n",
    "\n",
    "print(word_01 + \" \" + word_02)"
   ]
  },
  {
   "cell_type": "markdown",
   "id": "c138808c-88c2-458d-9096-88862bcd24ff",
   "metadata": {},
   "source": [
    "### List"
   ]
  },
  {
   "cell_type": "code",
   "execution_count": 31,
   "id": "6baf9469-eb92-487c-bab7-19a053e5298a",
   "metadata": {
    "tags": []
   },
   "outputs": [
    {
     "data": {
      "text/plain": [
       "[1, 2, 3, 4]"
      ]
     },
     "execution_count": 31,
     "metadata": {},
     "output_type": "execute_result"
    }
   ],
   "source": [
    "list_01 = [1, 2, 3, 4]\n",
    "\n",
    "list_01"
   ]
  },
  {
   "cell_type": "code",
   "execution_count": 32,
   "id": "69d35566-51ba-4de1-80ae-efe191bc03b2",
   "metadata": {
    "tags": []
   },
   "outputs": [
    {
     "data": {
      "text/plain": [
       "list"
      ]
     },
     "execution_count": 32,
     "metadata": {},
     "output_type": "execute_result"
    }
   ],
   "source": [
    "type(list_01)"
   ]
  },
  {
   "cell_type": "code",
   "execution_count": 33,
   "id": "fefabd70-0a75-47c3-9c78-8783e2a58b5d",
   "metadata": {
    "tags": []
   },
   "outputs": [
    {
     "data": {
      "text/plain": [
       "[1, 2, 3, 'four']"
      ]
     },
     "execution_count": 33,
     "metadata": {},
     "output_type": "execute_result"
    }
   ],
   "source": [
    "list_02 = [1, 2, 3, \"four\"]\n",
    "\n",
    "list_02"
   ]
  },
  {
   "cell_type": "code",
   "execution_count": 34,
   "id": "7a70b681-c9cf-4b97-9a1d-d37ead9cf9d4",
   "metadata": {
    "tags": []
   },
   "outputs": [
    {
     "data": {
      "text/plain": [
       "list"
      ]
     },
     "execution_count": 34,
     "metadata": {},
     "output_type": "execute_result"
    }
   ],
   "source": [
    "type(list_02)"
   ]
  },
  {
   "cell_type": "code",
   "execution_count": 35,
   "id": "0e687d9d-6c74-4146-b5ba-584887996c85",
   "metadata": {
    "tags": []
   },
   "outputs": [
    {
     "data": {
      "text/plain": [
       "[1, 2, 3, 'four', 5]"
      ]
     },
     "execution_count": 35,
     "metadata": {},
     "output_type": "execute_result"
    }
   ],
   "source": [
    "# add a new element\n",
    "list_02.append(5)\n",
    "\n",
    "list_02"
   ]
  },
  {
   "cell_type": "code",
   "execution_count": 37,
   "id": "2535b6c2-f380-4373-b66a-ec175c0ed760",
   "metadata": {
    "tags": []
   },
   "outputs": [
    {
     "data": {
      "text/plain": [
       "5"
      ]
     },
     "execution_count": 37,
     "metadata": {},
     "output_type": "execute_result"
    }
   ],
   "source": [
    "# pop the last element\n",
    "pop_element = list_02.pop()\n",
    "\n",
    "pop_element"
   ]
  },
  {
   "cell_type": "code",
   "execution_count": 38,
   "id": "b41690b5-f0e7-4816-b969-75d94aeda08a",
   "metadata": {
    "tags": []
   },
   "outputs": [
    {
     "data": {
      "text/plain": [
       "[1, 2, 3, 'four']"
      ]
     },
     "execution_count": 38,
     "metadata": {},
     "output_type": "execute_result"
    }
   ],
   "source": [
    "list_02"
   ]
  },
  {
   "cell_type": "code",
   "execution_count": 40,
   "id": "e3b3fbe1-70c4-4930-bdd7-35101054b916",
   "metadata": {
    "tags": []
   },
   "outputs": [
    {
     "data": {
      "text/plain": [
       "[1, 'Insert Element', 2, 3, 'four']"
      ]
     },
     "execution_count": 40,
     "metadata": {},
     "output_type": "execute_result"
    }
   ],
   "source": [
    "list_02.insert(1, \"Insert Element\")\n",
    "\n",
    "list_02"
   ]
  },
  {
   "cell_type": "markdown",
   "id": "b1340907-f9be-4b5e-8618-5e97ae17deb3",
   "metadata": {},
   "source": [
    "Python的列表从0开始，而不是1，在1插入则意味着将原本的数据往后挪动。"
   ]
  },
  {
   "cell_type": "code",
   "execution_count": 41,
   "id": "90983eab-3c04-4ffb-9e97-d882fba45082",
   "metadata": {
    "tags": []
   },
   "outputs": [
    {
     "data": {
      "text/plain": [
       "'four'"
      ]
     },
     "execution_count": 41,
     "metadata": {},
     "output_type": "execute_result"
    }
   ],
   "source": [
    "list_02[-1]  # last element"
   ]
  },
  {
   "cell_type": "code",
   "execution_count": 42,
   "id": "bf1bd614-2018-40cd-b8ad-258c3dcea5b6",
   "metadata": {
    "tags": []
   },
   "outputs": [
    {
     "data": {
      "text/plain": [
       "[1, 'Insert Element']"
      ]
     },
     "execution_count": 42,
     "metadata": {},
     "output_type": "execute_result"
    }
   ],
   "source": [
    "list_02[0:2] #左闭右开，包含左边但是不包含右边"
   ]
  },
  {
   "cell_type": "code",
   "execution_count": 43,
   "id": "42f6beb7-e110-4439-aa27-da84ca61f137",
   "metadata": {
    "tags": []
   },
   "outputs": [
    {
     "data": {
      "text/plain": [
       "['four', 3, 2, 'Insert Element', 1]"
      ]
     },
     "execution_count": 43,
     "metadata": {},
     "output_type": "execute_result"
    }
   ],
   "source": [
    "list_02[::-1]  # 翻转"
   ]
  },
  {
   "cell_type": "markdown",
   "id": "ea171990-0185-41f3-b1ce-9c07a3350abc",
   "metadata": {},
   "source": [
    "### Set"
   ]
  },
  {
   "cell_type": "markdown",
   "id": "d58138cd-fdfb-414d-b463-18f8a82e158d",
   "metadata": {},
   "source": [
    "set表示的是集合，集合不会有重复元素。"
   ]
  },
  {
   "cell_type": "code",
   "execution_count": 45,
   "id": "859c5f10-10cf-45bc-9daf-6aaa9c63d019",
   "metadata": {
    "tags": []
   },
   "outputs": [],
   "source": [
    "list_ori = [1, 1, 2, 2, 3]"
   ]
  },
  {
   "cell_type": "code",
   "execution_count": 46,
   "id": "cbc33480-7bba-4632-8fc9-cae6fef130d1",
   "metadata": {
    "tags": []
   },
   "outputs": [
    {
     "data": {
      "text/plain": [
       "list"
      ]
     },
     "execution_count": 46,
     "metadata": {},
     "output_type": "execute_result"
    }
   ],
   "source": [
    "type(list_ori)"
   ]
  },
  {
   "cell_type": "code",
   "execution_count": 49,
   "id": "4edd3ffc-9b3e-4b82-9481-feb3a6430fbe",
   "metadata": {
    "tags": []
   },
   "outputs": [],
   "source": [
    "set_01 = set(list_ori)"
   ]
  },
  {
   "cell_type": "code",
   "execution_count": 50,
   "id": "57ca4374-3235-485c-9b8e-2632d43a91fd",
   "metadata": {
    "tags": []
   },
   "outputs": [
    {
     "data": {
      "text/plain": [
       "{1, 2, 3}"
      ]
     },
     "execution_count": 50,
     "metadata": {},
     "output_type": "execute_result"
    }
   ],
   "source": [
    "set_01"
   ]
  },
  {
   "cell_type": "code",
   "execution_count": 51,
   "id": "e01d7943-63fd-49dd-9851-c92a16398875",
   "metadata": {
    "tags": []
   },
   "outputs": [
    {
     "data": {
      "text/plain": [
       "dict"
      ]
     },
     "execution_count": 51,
     "metadata": {},
     "output_type": "execute_result"
    }
   ],
   "source": [
    "set_02 = {}\n",
    "\n",
    "type(set_02)"
   ]
  },
  {
   "cell_type": "code",
   "execution_count": 54,
   "id": "21400e4f-ba9b-44fd-8981-4c6b38357bd8",
   "metadata": {
    "tags": []
   },
   "outputs": [
    {
     "data": {
      "text/plain": [
       "set"
      ]
     },
     "execution_count": 54,
     "metadata": {},
     "output_type": "execute_result"
    }
   ],
   "source": [
    "set_03 = set()\n",
    "\n",
    "type(set_03)"
   ]
  },
  {
   "cell_type": "code",
   "execution_count": 55,
   "id": "763f9dcc-4268-49cd-9d8f-2d979dbd65b1",
   "metadata": {
    "tags": []
   },
   "outputs": [
    {
     "data": {
      "text/plain": [
       "{1, 2, 'two'}"
      ]
     },
     "execution_count": 55,
     "metadata": {},
     "output_type": "execute_result"
    }
   ],
   "source": [
    "set_04 = {1, 1.0, 2, 2.0, \"two\", 'two'}\n",
    "\n",
    "set_04"
   ]
  },
  {
   "cell_type": "markdown",
   "id": "153e50f6-0230-4717-9a9d-ef1498c9593e",
   "metadata": {},
   "source": [
    "可以发现1和1.0会被认为是相同的。"
   ]
  },
  {
   "cell_type": "code",
   "execution_count": 56,
   "id": "cbbcf307-4d53-42e0-9963-bd214b31cd6d",
   "metadata": {
    "tags": []
   },
   "outputs": [
    {
     "data": {
      "text/plain": [
       "{1}"
      ]
     },
     "execution_count": 56,
     "metadata": {},
     "output_type": "execute_result"
    }
   ],
   "source": [
    "set_05 = {1, float(1)}\n",
    "\n",
    "set_05"
   ]
  },
  {
   "cell_type": "code",
   "execution_count": 59,
   "id": "a47fb3c2-5810-478f-b955-b59efb27dbd0",
   "metadata": {
    "tags": []
   },
   "outputs": [
    {
     "ename": "TypeError",
     "evalue": "'set' object is not subscriptable",
     "output_type": "error",
     "traceback": [
      "\u001b[1;31m---------------------------------------------------------------------------\u001b[0m",
      "\u001b[1;31mTypeError\u001b[0m                                 Traceback (most recent call last)",
      "Cell \u001b[1;32mIn[59], line 1\u001b[0m\n\u001b[1;32m----> 1\u001b[0m \u001b[43mset_04\u001b[49m\u001b[43m[\u001b[49m\u001b[38;5;241;43m0\u001b[39;49m\u001b[43m]\u001b[49m\n",
      "\u001b[1;31mTypeError\u001b[0m: 'set' object is not subscriptable"
     ]
    }
   ],
   "source": [
    "set_04[0]"
   ]
  },
  {
   "cell_type": "markdown",
   "id": "213b79ba-e462-484b-b0a4-50736920b6ba",
   "metadata": {},
   "source": [
    "可以发现set并不能够被使用序数来进行访问。\n",
    "\n",
    "集合（Set）是一种无序且不重复的数据集合。由于集合是无序的，因此不能使用索引（index）来访问集合中的元素。集合的设计目的是提供一种快速的成员检查和去重的数据结构。"
   ]
  },
  {
   "cell_type": "markdown",
   "id": "e8786a62-3fd7-48fc-b78f-185337b0ac39",
   "metadata": {},
   "source": [
    "### Tuple"
   ]
  },
  {
   "cell_type": "code",
   "execution_count": 60,
   "id": "36e6764c-21f7-4d75-ae65-68aef76333fd",
   "metadata": {
    "tags": []
   },
   "outputs": [
    {
     "data": {
      "text/plain": [
       "(1, 2, 'three')"
      ]
     },
     "execution_count": 60,
     "metadata": {},
     "output_type": "execute_result"
    }
   ],
   "source": [
    "tuple_01 = (1, 2, \"three\")\n",
    "\n",
    "tuple_01"
   ]
  },
  {
   "cell_type": "code",
   "execution_count": 61,
   "id": "75a1fa6f-306a-4cc0-b9ea-130116a24fd4",
   "metadata": {
    "tags": []
   },
   "outputs": [
    {
     "data": {
      "text/plain": [
       "tuple"
      ]
     },
     "execution_count": 61,
     "metadata": {},
     "output_type": "execute_result"
    }
   ],
   "source": [
    "type(tuple_01)"
   ]
  },
  {
   "cell_type": "code",
   "execution_count": 62,
   "id": "11163633-8fbd-4530-ab31-cb1a44b31429",
   "metadata": {
    "tags": []
   },
   "outputs": [
    {
     "ename": "TypeError",
     "evalue": "'tuple' object does not support item assignment",
     "output_type": "error",
     "traceback": [
      "\u001b[1;31m---------------------------------------------------------------------------\u001b[0m",
      "\u001b[1;31mTypeError\u001b[0m                                 Traceback (most recent call last)",
      "Cell \u001b[1;32mIn[62], line 2\u001b[0m\n\u001b[0;32m      1\u001b[0m \u001b[38;5;66;03m# tuple can not be modified\u001b[39;00m\n\u001b[1;32m----> 2\u001b[0m \u001b[43mtuple_01\u001b[49m\u001b[43m[\u001b[49m\u001b[38;5;241;43m0\u001b[39;49m\u001b[43m]\u001b[49m \u001b[38;5;241m=\u001b[39m \u001b[38;5;241m11\u001b[39m\n",
      "\u001b[1;31mTypeError\u001b[0m: 'tuple' object does not support item assignment"
     ]
    }
   ],
   "source": [
    "# tuple can not be modified\n",
    "tuple_01[0] = 11"
   ]
  },
  {
   "cell_type": "code",
   "execution_count": 63,
   "id": "a65c13d3-ced5-44fb-a4a8-5ceef90574f7",
   "metadata": {
    "tags": []
   },
   "outputs": [
    {
     "data": {
      "text/plain": [
       "2"
      ]
     },
     "execution_count": 63,
     "metadata": {},
     "output_type": "execute_result"
    }
   ],
   "source": [
    "tuple_01[1]"
   ]
  },
  {
   "cell_type": "markdown",
   "id": "55ea0d16-6be0-4808-aaa4-54408939c79f",
   "metadata": {},
   "source": [
    "但是可以使用序数来进行访问。"
   ]
  },
  {
   "cell_type": "code",
   "execution_count": 64,
   "id": "8418d7f7-62a9-4f7d-80ea-e1bc60bca5a3",
   "metadata": {
    "tags": []
   },
   "outputs": [
    {
     "data": {
      "text/plain": [
       "('three', 2, 1)"
      ]
     },
     "execution_count": 64,
     "metadata": {},
     "output_type": "execute_result"
    }
   ],
   "source": [
    "tuple_01[::-1]"
   ]
  },
  {
   "cell_type": "markdown",
   "id": "678c68c6-f7b2-4f63-b4b4-8f9bcc424890",
   "metadata": {},
   "source": [
    "### Dictionary"
   ]
  },
  {
   "cell_type": "code",
   "execution_count": 65,
   "id": "16404317-a506-4372-8394-c9ecc060b3cc",
   "metadata": {
    "tags": []
   },
   "outputs": [],
   "source": [
    "# key:value pair"
   ]
  },
  {
   "cell_type": "code",
   "execution_count": 67,
   "id": "c459e553-b3e3-4e35-a59d-699f5dad4f79",
   "metadata": {
    "tags": []
   },
   "outputs": [
    {
     "data": {
      "text/plain": [
       "{'student_01': 'a1001', 'student_02': 'a1002'}"
      ]
     },
     "execution_count": 67,
     "metadata": {},
     "output_type": "execute_result"
    }
   ],
   "source": [
    "dic_01 = {\"student_01\":\"a1001\", \"student_02\":\"a1002\"}\n",
    "\n",
    "dic_01"
   ]
  },
  {
   "cell_type": "code",
   "execution_count": 70,
   "id": "30c495e7-9af6-4893-9209-f26c0a97b758",
   "metadata": {
    "tags": []
   },
   "outputs": [
    {
     "data": {
      "text/plain": [
       "'a1001'"
      ]
     },
     "execution_count": 70,
     "metadata": {},
     "output_type": "execute_result"
    }
   ],
   "source": [
    "dic_01[\"student_01\"]"
   ]
  },
  {
   "cell_type": "code",
   "execution_count": 71,
   "id": "0077ab39-1cab-449c-9b14-967e1eaf1ca9",
   "metadata": {
    "tags": []
   },
   "outputs": [
    {
     "data": {
      "text/plain": [
       "dict_keys(['student_01', 'student_02'])"
      ]
     },
     "execution_count": 71,
     "metadata": {},
     "output_type": "execute_result"
    }
   ],
   "source": [
    "dic_01.keys()"
   ]
  },
  {
   "cell_type": "code",
   "execution_count": 72,
   "id": "7ce13ae7-14c4-4592-b8a1-73d897f39076",
   "metadata": {
    "tags": []
   },
   "outputs": [
    {
     "data": {
      "text/plain": [
       "dict_values(['a1001', 'a1002'])"
      ]
     },
     "execution_count": 72,
     "metadata": {},
     "output_type": "execute_result"
    }
   ],
   "source": [
    "dic_01.values()"
   ]
  },
  {
   "cell_type": "code",
   "execution_count": 76,
   "id": "0a554d2c-0055-4c32-9d72-048880b45e7b",
   "metadata": {
    "tags": []
   },
   "outputs": [
    {
     "name": "stdout",
     "output_type": "stream",
     "text": [
      "a1001\n"
     ]
    }
   ],
   "source": [
    "x = dic_01.get(\"student_01\")\n",
    "print(x)"
   ]
  },
  {
   "cell_type": "code",
   "execution_count": 79,
   "id": "0acd7128-8a23-4b9a-898e-72361e0dd11d",
   "metadata": {
    "tags": []
   },
   "outputs": [
    {
     "data": {
      "text/plain": [
       "{'student_01': 'a1001', 'student_02': 'a1002', 'student_03': 'a1003'}"
      ]
     },
     "execution_count": 79,
     "metadata": {},
     "output_type": "execute_result"
    }
   ],
   "source": [
    "# add a new key-value pair\n",
    "dic_01[\"student_03\"] = \"a1003\"\n",
    "\n",
    "dic_01"
   ]
  },
  {
   "cell_type": "code",
   "execution_count": 80,
   "id": "9f6d6a0b-8fb9-4696-9d2a-eed78d53bd3b",
   "metadata": {
    "tags": []
   },
   "outputs": [
    {
     "data": {
      "text/plain": [
       "{'student_01': 'a1001', 'student_02': 'a1002', 'student_03': 'a1003'}"
      ]
     },
     "execution_count": 80,
     "metadata": {},
     "output_type": "execute_result"
    }
   ],
   "source": [
    "dic_01"
   ]
  },
  {
   "cell_type": "code",
   "execution_count": 82,
   "id": "a719898b-d5b9-4bf4-ac4c-daee08183f2d",
   "metadata": {
    "tags": []
   },
   "outputs": [
    {
     "data": {
      "text/plain": [
       "dict_items([('student_01', 'a1001'), ('student_02', 'a1002'), ('student_03', 'a1003')])"
      ]
     },
     "execution_count": 82,
     "metadata": {},
     "output_type": "execute_result"
    }
   ],
   "source": [
    "dic_01.items()"
   ]
  },
  {
   "cell_type": "code",
   "execution_count": 84,
   "id": "f64e4377-daa1-47cc-86e6-875c1c9cd13f",
   "metadata": {
    "tags": []
   },
   "outputs": [
    {
     "name": "stdout",
     "output_type": "stream",
     "text": [
      "studen's name is student_01, his/her ID is a1001\n",
      "studen's name is student_02, his/her ID is a1002\n",
      "studen's name is student_03, his/her ID is a1003\n"
     ]
    }
   ],
   "source": [
    "for key,value in dic_01.items():\n",
    "    print(\"studen's name is {}, his/her ID is {}\".format(key, value))"
   ]
  },
  {
   "cell_type": "markdown",
   "id": "14b4a235-9e3c-481d-a6af-4b081d288b24",
   "metadata": {},
   "source": [
    "### Boolean and Comparison and Logical Operator"
   ]
  },
  {
   "cell_type": "code",
   "execution_count": 85,
   "id": "ad980de4-43ff-44ac-8669-694970e38246",
   "metadata": {
    "tags": []
   },
   "outputs": [
    {
     "data": {
      "text/plain": [
       "True"
      ]
     },
     "execution_count": 85,
     "metadata": {},
     "output_type": "execute_result"
    }
   ],
   "source": [
    "True"
   ]
  },
  {
   "cell_type": "code",
   "execution_count": 86,
   "id": "a13e702c-24cc-4531-8861-b90e7a93766c",
   "metadata": {
    "tags": []
   },
   "outputs": [
    {
     "data": {
      "text/plain": [
       "False"
      ]
     },
     "execution_count": 86,
     "metadata": {},
     "output_type": "execute_result"
    }
   ],
   "source": [
    "False"
   ]
  },
  {
   "cell_type": "code",
   "execution_count": 87,
   "id": "364abc7c-2b48-4bf6-8547-862efa54e66a",
   "metadata": {
    "tags": []
   },
   "outputs": [
    {
     "data": {
      "text/plain": [
       "True"
      ]
     },
     "execution_count": 87,
     "metadata": {},
     "output_type": "execute_result"
    }
   ],
   "source": [
    "True and True"
   ]
  },
  {
   "cell_type": "code",
   "execution_count": 88,
   "id": "9c4b8b39-463e-4a7b-be43-681c14c7d0da",
   "metadata": {
    "tags": []
   },
   "outputs": [
    {
     "data": {
      "text/plain": [
       "False"
      ]
     },
     "execution_count": 88,
     "metadata": {},
     "output_type": "execute_result"
    }
   ],
   "source": [
    "False and False"
   ]
  },
  {
   "cell_type": "code",
   "execution_count": 89,
   "id": "c9c7e7fb-7777-436e-b82a-0b9fa860df53",
   "metadata": {
    "tags": []
   },
   "outputs": [
    {
     "data": {
      "text/plain": [
       "False"
      ]
     },
     "execution_count": 89,
     "metadata": {},
     "output_type": "execute_result"
    }
   ],
   "source": [
    "True and False"
   ]
  },
  {
   "cell_type": "code",
   "execution_count": 90,
   "id": "b6f3610c-e293-4569-bf80-64e752c156c5",
   "metadata": {
    "tags": []
   },
   "outputs": [
    {
     "data": {
      "text/plain": [
       "False"
      ]
     },
     "execution_count": 90,
     "metadata": {},
     "output_type": "execute_result"
    }
   ],
   "source": [
    "False and True"
   ]
  },
  {
   "cell_type": "code",
   "execution_count": 91,
   "id": "1ad58914-3d73-47f4-96b1-4b51361f2c5b",
   "metadata": {
    "tags": []
   },
   "outputs": [
    {
     "data": {
      "text/plain": [
       "True"
      ]
     },
     "execution_count": 91,
     "metadata": {},
     "output_type": "execute_result"
    }
   ],
   "source": [
    "True or False"
   ]
  },
  {
   "cell_type": "code",
   "execution_count": 92,
   "id": "80ecc6d1-25b0-4897-8a42-17ec55d3c0dc",
   "metadata": {
    "tags": []
   },
   "outputs": [
    {
     "data": {
      "text/plain": [
       "False"
      ]
     },
     "execution_count": 92,
     "metadata": {},
     "output_type": "execute_result"
    }
   ],
   "source": [
    "not True"
   ]
  },
  {
   "cell_type": "code",
   "execution_count": 93,
   "id": "9a927833-c4da-4a0d-9ad5-f4969763cde7",
   "metadata": {
    "tags": []
   },
   "outputs": [
    {
     "data": {
      "text/plain": [
       "True"
      ]
     },
     "execution_count": 93,
     "metadata": {},
     "output_type": "execute_result"
    }
   ],
   "source": [
    "not False"
   ]
  },
  {
   "cell_type": "code",
   "execution_count": 94,
   "id": "4a7b10c6-5351-48a9-855e-e47edb6c53e8",
   "metadata": {
    "tags": []
   },
   "outputs": [
    {
     "data": {
      "text/plain": [
       "True"
      ]
     },
     "execution_count": 94,
     "metadata": {},
     "output_type": "execute_result"
    }
   ],
   "source": [
    "10 == 10"
   ]
  },
  {
   "cell_type": "code",
   "execution_count": 95,
   "id": "1834d900-5126-4ac6-af82-af3fe21ea7b2",
   "metadata": {
    "tags": []
   },
   "outputs": [
    {
     "data": {
      "text/plain": [
       "False"
      ]
     },
     "execution_count": 95,
     "metadata": {},
     "output_type": "execute_result"
    }
   ],
   "source": [
    "10 == 12"
   ]
  },
  {
   "cell_type": "code",
   "execution_count": 96,
   "id": "2f39c17d-9685-430c-9224-fd71b015c408",
   "metadata": {
    "tags": []
   },
   "outputs": [
    {
     "data": {
      "text/plain": [
       "False"
      ]
     },
     "execution_count": 96,
     "metadata": {},
     "output_type": "execute_result"
    }
   ],
   "source": [
    "10 == 13"
   ]
  },
  {
   "cell_type": "code",
   "execution_count": 97,
   "id": "76de02ca-5f26-40b3-be03-7a11c5f571c4",
   "metadata": {
    "tags": []
   },
   "outputs": [
    {
     "data": {
      "text/plain": [
       "False"
      ]
     },
     "execution_count": 97,
     "metadata": {},
     "output_type": "execute_result"
    }
   ],
   "source": [
    "10 > 13"
   ]
  },
  {
   "cell_type": "code",
   "execution_count": 98,
   "id": "c6ddd3ec-1f43-4a36-bb67-67f07081c5df",
   "metadata": {
    "tags": []
   },
   "outputs": [
    {
     "data": {
      "text/plain": [
       "True"
      ]
     },
     "execution_count": 98,
     "metadata": {},
     "output_type": "execute_result"
    }
   ],
   "source": [
    "10 < 13"
   ]
  },
  {
   "cell_type": "code",
   "execution_count": 99,
   "id": "1d24e8c8-7a64-45f1-8e2c-243a929aedce",
   "metadata": {
    "tags": []
   },
   "outputs": [
    {
     "data": {
      "text/plain": [
       "True"
      ]
     },
     "execution_count": 99,
     "metadata": {},
     "output_type": "execute_result"
    }
   ],
   "source": [
    "10 != 11"
   ]
  },
  {
   "cell_type": "code",
   "execution_count": 101,
   "id": "e80a8d7f-ea57-4902-a9a5-d49ae9e593f4",
   "metadata": {
    "tags": []
   },
   "outputs": [
    {
     "data": {
      "text/plain": [
       "True"
      ]
     },
     "execution_count": 101,
     "metadata": {},
     "output_type": "execute_result"
    }
   ],
   "source": [
    "None == None"
   ]
  },
  {
   "cell_type": "markdown",
   "id": "a192b903-5f4b-4342-8436-9e41867904ef",
   "metadata": {},
   "source": [
    "在Python中，None是一个特殊的常量，用于表示空值或缺失值。它是Python的空对象，表示一个没有值的情况。None是一个独立的数据类型，表示一个单一的对象。"
   ]
  },
  {
   "cell_type": "code",
   "execution_count": 102,
   "id": "72502f61-c8e4-47b0-93a2-05f6b7a7a83f",
   "metadata": {
    "tags": []
   },
   "outputs": [
    {
     "data": {
      "text/plain": [
       "True"
      ]
     },
     "execution_count": 102,
     "metadata": {},
     "output_type": "execute_result"
    }
   ],
   "source": [
    "\"string\" == \"string\""
   ]
  },
  {
   "cell_type": "code",
   "execution_count": 103,
   "id": "681e9d55-b4e7-4383-8de4-87d36745544a",
   "metadata": {
    "tags": []
   },
   "outputs": [
    {
     "data": {
      "text/plain": [
       "False"
      ]
     },
     "execution_count": 103,
     "metadata": {},
     "output_type": "execute_result"
    }
   ],
   "source": [
    "\"String\" == \"string\""
   ]
  },
  {
   "cell_type": "code",
   "execution_count": 104,
   "id": "50f9620f-ebde-411d-9c7f-4402b73b7c1b",
   "metadata": {
    "tags": []
   },
   "outputs": [
    {
     "data": {
      "text/plain": [
       "False"
      ]
     },
     "execution_count": 104,
     "metadata": {},
     "output_type": "execute_result"
    }
   ],
   "source": [
    "\"string \" == \"string\""
   ]
  },
  {
   "cell_type": "markdown",
   "id": "39b6fe98-f1a7-4580-bbe0-40be6c59d85e",
   "metadata": {},
   "source": [
    "## Conditional Logical Statemtns"
   ]
  },
  {
   "cell_type": "markdown",
   "id": "ac555489-8f0e-4eaf-873b-19c8492d2e58",
   "metadata": {},
   "source": [
    "### Conditional Statements if else and elif"
   ]
  },
  {
   "cell_type": "code",
   "execution_count": 105,
   "id": "671cbd51-fa2e-42f8-8a09-89f9cdd67eba",
   "metadata": {
    "tags": []
   },
   "outputs": [
    {
     "name": "stdout",
     "output_type": "stream",
     "text": [
      "x is equal to 10\n"
     ]
    }
   ],
   "source": [
    "x = 10\n",
    "\n",
    "if x > 10:\n",
    "    print(\"x is bigger than 10\")\n",
    "elif x < 10:\n",
    "    print(\"x is smaller than 10\")\n",
    "else:\n",
    "    print(\"x is equal to 10\")"
   ]
  },
  {
   "cell_type": "markdown",
   "id": "83c078a1-62ac-41e5-9e93-df7350250e54",
   "metadata": {},
   "source": [
    "else后面不能够跟任何的判断语句，因为else表示出了if和elif之外的所有的情况。"
   ]
  },
  {
   "cell_type": "markdown",
   "id": "34a78bb9-02a7-4da4-b0f0-7e473fb02724",
   "metadata": {},
   "source": [
    "### For and While Loops"
   ]
  },
  {
   "cell_type": "code",
   "execution_count": 106,
   "id": "ee3a4724-139c-42d3-a8b3-69d38b37755e",
   "metadata": {
    "tags": []
   },
   "outputs": [
    {
     "name": "stdout",
     "output_type": "stream",
     "text": [
      "a\n",
      "b\n",
      "c\n",
      "d\n",
      "e\n",
      "f\n",
      "g\n",
      "h\n",
      "i\n",
      "j\n",
      "k\n",
      "l\n",
      "m\n",
      "n\n"
     ]
    }
   ],
   "source": [
    "str_word = \"abcdefghijklmn\"\n",
    "\n",
    "for word in str_word:\n",
    "    print(word)"
   ]
  },
  {
   "cell_type": "code",
   "execution_count": 107,
   "id": "9f69b416-d4b0-4d4e-9a20-eadef64ba795",
   "metadata": {
    "tags": []
   },
   "outputs": [
    {
     "name": "stdout",
     "output_type": "stream",
     "text": [
      "student_01 a1001\n",
      "student_02 a1002\n",
      "student_03 a1003\n"
     ]
    }
   ],
   "source": [
    "for key,value in dic_01.items():\n",
    "    print(key, value)"
   ]
  },
  {
   "cell_type": "code",
   "execution_count": 108,
   "id": "e30a0ed7-246d-4042-be38-6315647f285a",
   "metadata": {
    "tags": []
   },
   "outputs": [
    {
     "data": {
      "text/plain": [
       "[1, 1, 2, 2, 3]"
      ]
     },
     "execution_count": 108,
     "metadata": {},
     "output_type": "execute_result"
    }
   ],
   "source": [
    "list_ori"
   ]
  },
  {
   "cell_type": "code",
   "execution_count": 109,
   "id": "fc798e7b-ff63-4a81-927c-1b7c4688abb3",
   "metadata": {
    "tags": []
   },
   "outputs": [
    {
     "name": "stdout",
     "output_type": "stream",
     "text": [
      "1\n",
      "1\n",
      "2\n",
      "2\n",
      "3\n"
     ]
    }
   ],
   "source": [
    "for element in list_ori:\n",
    "    print(element)"
   ]
  },
  {
   "cell_type": "code",
   "execution_count": 113,
   "id": "f1ae6dc6-b86a-47cd-9ae1-ca4c7a81544f",
   "metadata": {
    "tags": []
   },
   "outputs": [
    {
     "name": "stdout",
     "output_type": "stream",
     "text": [
      "0\n",
      "1\n",
      "2\n",
      "3\n",
      "4\n",
      "5\n",
      "6\n",
      "7\n",
      "8\n",
      "9\n"
     ]
    }
   ],
   "source": [
    "for num in range(0, 10):  # 这里不包括10\n",
    "    print(num)"
   ]
  },
  {
   "cell_type": "code",
   "execution_count": 115,
   "id": "4a5d033f-e297-4c75-9a91-b0f351139c32",
   "metadata": {
    "tags": []
   },
   "outputs": [
    {
     "name": "stdout",
     "output_type": "stream",
     "text": [
      "0 1 2 3 4 5 6 7 8 9 "
     ]
    }
   ],
   "source": [
    "for num in range(0, 10):  # 这里不包括10\n",
    "    print(num, end = \" \")"
   ]
  },
  {
   "cell_type": "code",
   "execution_count": 122,
   "id": "7f6cc454-47fd-43a2-8ab3-1a3f01b1d541",
   "metadata": {
    "tags": []
   },
   "outputs": [
    {
     "data": {
      "text/plain": [
       "True"
      ]
     },
     "execution_count": 122,
     "metadata": {},
     "output_type": "execute_result"
    }
   ],
   "source": [
    "1 == True"
   ]
  },
  {
   "cell_type": "code",
   "execution_count": 123,
   "id": "5016d7e9-aa12-46e1-affc-8faf40924647",
   "metadata": {
    "tags": []
   },
   "outputs": [
    {
     "data": {
      "text/plain": [
       "False"
      ]
     },
     "execution_count": 123,
     "metadata": {},
     "output_type": "execute_result"
    }
   ],
   "source": [
    "1 == False"
   ]
  },
  {
   "cell_type": "code",
   "execution_count": 124,
   "id": "d3869d1c-3920-4ec8-97a0-900849795818",
   "metadata": {
    "tags": []
   },
   "outputs": [
    {
     "data": {
      "text/plain": [
       "False"
      ]
     },
     "execution_count": 124,
     "metadata": {},
     "output_type": "execute_result"
    }
   ],
   "source": [
    "0 == True"
   ]
  },
  {
   "cell_type": "code",
   "execution_count": 125,
   "id": "6aea2bdd-d418-4894-a473-10144da0e565",
   "metadata": {
    "tags": []
   },
   "outputs": [
    {
     "data": {
      "text/plain": [
       "True"
      ]
     },
     "execution_count": 125,
     "metadata": {},
     "output_type": "execute_result"
    }
   ],
   "source": [
    "0 == False"
   ]
  },
  {
   "cell_type": "code",
   "execution_count": 126,
   "id": "5f736bcf-950e-4a05-8358-e5f65a422155",
   "metadata": {
    "tags": []
   },
   "outputs": [
    {
     "name": "stdout",
     "output_type": "stream",
     "text": [
      "10\n",
      "11\n",
      "12\n",
      "13\n",
      "14\n",
      "15\n"
     ]
    }
   ],
   "source": [
    "flag = 10\n",
    "\n",
    "while flag <= 15:  # 循环的条件\n",
    "    print(flag)\n",
    "    flag += 1  # 每次flag都会+1，从而完成循环条件的不成立"
   ]
  },
  {
   "cell_type": "code",
   "execution_count": 127,
   "id": "a84119fa-6cac-41e1-8483-a09f252942f4",
   "metadata": {
    "tags": []
   },
   "outputs": [
    {
     "data": {
      "text/plain": [
       "16"
      ]
     },
     "execution_count": 127,
     "metadata": {},
     "output_type": "execute_result"
    }
   ],
   "source": [
    "flag"
   ]
  },
  {
   "cell_type": "code",
   "execution_count": 129,
   "id": "c01c9da2-4582-4cee-838f-3cbefcff94a9",
   "metadata": {
    "tags": []
   },
   "outputs": [
    {
     "name": "stdout",
     "output_type": "stream",
     "text": [
      "10\n",
      "11\n",
      "12\n",
      "13\n",
      "14\n"
     ]
    }
   ],
   "source": [
    "flag = 10\n",
    "\n",
    "while flag < 20:\n",
    "    print(flag)\n",
    "    flag += 1\n",
    "    if flag == 15:\n",
    "        break   # 可以直接从循环中跳出来"
   ]
  },
  {
   "cell_type": "code",
   "execution_count": 132,
   "id": "7be02d71-730d-4c63-aecc-ab8a2c1ae184",
   "metadata": {
    "tags": []
   },
   "outputs": [
    {
     "name": "stdout",
     "output_type": "stream",
     "text": [
      "当前计数: 1\n",
      "当前计数: 2\n",
      "当前计数: 4\n",
      "当前计数: 5\n",
      "循环结束\n"
     ]
    }
   ],
   "source": [
    "count = 0\n",
    "while count < 5:\n",
    "    count += 1\n",
    "    if count == 3:\n",
    "        continue\n",
    "    print(\"当前计数:\", count)\n",
    "\n",
    "print(\"循环结束\")"
   ]
  },
  {
   "cell_type": "markdown",
   "id": "69f33f35-7070-44ac-a981-bb8992c2a328",
   "metadata": {},
   "source": [
    "### Method and Lambda Function"
   ]
  },
  {
   "cell_type": "code",
   "execution_count": 135,
   "id": "3fd5f412-dbfe-4841-a7ad-239a8f8db624",
   "metadata": {
    "tags": []
   },
   "outputs": [],
   "source": [
    "def add_two_numers(x:int, y:int) -> int:\n",
    "    return x + y"
   ]
  },
  {
   "cell_type": "code",
   "execution_count": 136,
   "id": "a59f4079-cc1d-46d8-8e7c-25d007b5458a",
   "metadata": {
    "tags": []
   },
   "outputs": [
    {
     "data": {
      "text/plain": [
       "35"
      ]
     },
     "execution_count": 136,
     "metadata": {},
     "output_type": "execute_result"
    }
   ],
   "source": [
    "add_two_numers(10, 25)"
   ]
  },
  {
   "cell_type": "code",
   "execution_count": 137,
   "id": "8e021509-beae-435b-b741-aef1e327979c",
   "metadata": {
    "tags": []
   },
   "outputs": [
    {
     "data": {
      "text/plain": [
       "16"
      ]
     },
     "execution_count": 137,
     "metadata": {},
     "output_type": "execute_result"
    }
   ],
   "source": [
    "result = lambda x:x**2\n",
    "\n",
    "result(4)"
   ]
  },
  {
   "cell_type": "code",
   "execution_count": 138,
   "id": "27e3e760-8ec4-427e-b3e5-0d2328491d83",
   "metadata": {
    "tags": []
   },
   "outputs": [],
   "source": [
    "sum_2_numbers = lambda x, y: x + y"
   ]
  },
  {
   "cell_type": "code",
   "execution_count": 139,
   "id": "826b2da5-5de2-4214-a245-3520153126e0",
   "metadata": {
    "tags": []
   },
   "outputs": [
    {
     "data": {
      "text/plain": [
       "30"
      ]
     },
     "execution_count": 139,
     "metadata": {},
     "output_type": "execute_result"
    }
   ],
   "source": [
    "sum_2_numbers(10, 20)"
   ]
  }
 ],
 "metadata": {
  "kernelspec": {
   "display_name": "Python 3 (ipykernel)",
   "language": "python",
   "name": "python3"
  },
  "language_info": {
   "codemirror_mode": {
    "name": "ipython",
    "version": 3
   },
   "file_extension": ".py",
   "mimetype": "text/x-python",
   "name": "python",
   "nbconvert_exporter": "python",
   "pygments_lexer": "ipython3",
   "version": "3.10.11"
  }
 },
 "nbformat": 4,
 "nbformat_minor": 5
}
