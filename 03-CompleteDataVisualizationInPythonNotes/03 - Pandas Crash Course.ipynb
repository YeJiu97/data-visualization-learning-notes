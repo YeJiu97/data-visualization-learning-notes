{
 "cells": [
  {
   "cell_type": "markdown",
   "id": "c54fe5d0-abaa-492f-a5d6-d876ea64bd73",
   "metadata": {},
   "source": [
    "# Pandas Crash Course"
   ]
  },
  {
   "cell_type": "markdown",
   "id": "19dc36f8-610d-466d-b3e3-0e443a308e60",
   "metadata": {},
   "source": [
    "## Introduction"
   ]
  }
 ],
 "metadata": {
  "kernelspec": {
   "display_name": "Python 3 (ipykernel)",
   "language": "python",
   "name": "python3"
  },
  "language_info": {
   "codemirror_mode": {
    "name": "ipython",
    "version": 3
   },
   "file_extension": ".py",
   "mimetype": "text/x-python",
   "name": "python",
   "nbconvert_exporter": "python",
   "pygments_lexer": "ipython3",
   "version": "3.10.9"
  }
 },
 "nbformat": 4,
 "nbformat_minor": 5
}
