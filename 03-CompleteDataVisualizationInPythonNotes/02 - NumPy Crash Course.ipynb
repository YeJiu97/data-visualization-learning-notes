{
 "cells": [
  {
   "cell_type": "markdown",
   "id": "e9e3b5fb-61a3-478c-a1c9-765e961daa73",
   "metadata": {},
   "source": [
    "# NumPy Crash Course"
   ]
  },
  {
   "cell_type": "markdown",
   "id": "e3bb85b6-cee3-4940-bd5a-be52f8af7e97",
   "metadata": {},
   "source": [
    "## Introduction"
   ]
  },
  {
   "cell_type": "code",
   "execution_count": 1,
   "id": "502f5881-6170-427d-b09d-b675d622e578",
   "metadata": {},
   "outputs": [],
   "source": [
    "# pip3 install numpy"
   ]
  },
  {
   "cell_type": "code",
   "execution_count": 2,
   "id": "d4223a64-98ba-42f2-9e5f-ec84a957ea87",
   "metadata": {},
   "outputs": [],
   "source": [
    "import numpy as np"
   ]
  },
  {
   "cell_type": "markdown",
   "id": "b85d4d3b-de0c-447a-8c30-dc630dbeda89",
   "metadata": {},
   "source": [
    "## np.array()"
   ]
  },
  {
   "cell_type": "code",
   "execution_count": 3,
   "id": "7863dce1-7d3c-4713-b32b-e5b2288207ce",
   "metadata": {},
   "outputs": [],
   "source": [
    "l = [1, 2, 3, 4, 5]"
   ]
  },
  {
   "cell_type": "code",
   "execution_count": 4,
   "id": "ccc7c3f6-f881-4f3c-95f7-2e6f11f31b39",
   "metadata": {},
   "outputs": [],
   "source": [
    "npa = np.array(l)"
   ]
  },
  {
   "cell_type": "code",
   "execution_count": 5,
   "id": "ba3623f8-5427-44c9-9103-0a6e22c27567",
   "metadata": {},
   "outputs": [
    {
     "data": {
      "text/plain": [
       "array([1, 2, 3, 4, 5])"
      ]
     },
     "execution_count": 5,
     "metadata": {},
     "output_type": "execute_result"
    }
   ],
   "source": [
    "npa"
   ]
  },
  {
   "cell_type": "code",
   "execution_count": 7,
   "id": "f4537de6-8ec2-4c88-b00d-a592ce7eb20b",
   "metadata": {},
   "outputs": [
    {
     "data": {
      "text/plain": [
       "list"
      ]
     },
     "execution_count": 7,
     "metadata": {},
     "output_type": "execute_result"
    }
   ],
   "source": [
    "type(l)"
   ]
  },
  {
   "cell_type": "code",
   "execution_count": 8,
   "id": "f90f1574-45be-41ad-80a3-04c64ae51a3a",
   "metadata": {},
   "outputs": [
    {
     "data": {
      "text/plain": [
       "numpy.ndarray"
      ]
     },
     "execution_count": 8,
     "metadata": {},
     "output_type": "execute_result"
    }
   ],
   "source": [
    "type(npa)"
   ]
  },
  {
   "cell_type": "code",
   "execution_count": 9,
   "id": "c4160ec2-f1af-44ec-b038-a8d66d1a497a",
   "metadata": {},
   "outputs": [
    {
     "data": {
      "text/plain": [
       "(5,)"
      ]
     },
     "execution_count": 9,
     "metadata": {},
     "output_type": "execute_result"
    }
   ],
   "source": [
    "# array的大小\n",
    "npa.shape"
   ]
  },
  {
   "cell_type": "code",
   "execution_count": 10,
   "id": "547c3535-8ec2-4fb1-8e6e-df14d31cf324",
   "metadata": {},
   "outputs": [],
   "source": [
    "l1 = [1, 4, 9, 16]"
   ]
  },
  {
   "cell_type": "code",
   "execution_count": 11,
   "id": "aa218e4b-a976-4984-9e0c-49069735f33c",
   "metadata": {},
   "outputs": [
    {
     "data": {
      "text/plain": [
       "[1, 4, 9, 16]"
      ]
     },
     "execution_count": 11,
     "metadata": {},
     "output_type": "execute_result"
    }
   ],
   "source": [
    "l1"
   ]
  },
  {
   "cell_type": "code",
   "execution_count": 12,
   "id": "5924abaa-5df4-4406-ada6-5b661526670f",
   "metadata": {},
   "outputs": [
    {
     "data": {
      "text/plain": [
       "array([ 1,  2,  3,  4,  5,  1,  4,  9, 16])"
      ]
     },
     "execution_count": 12,
     "metadata": {},
     "output_type": "execute_result"
    }
   ],
   "source": [
    "np.array(l + l1)"
   ]
  },
  {
   "cell_type": "markdown",
   "id": "a59743fb-f6dd-4578-9c54-3c5e76f3aeb8",
   "metadata": {},
   "source": [
    "如果是list， + [20] 则会在list的末尾添加20这个元素。"
   ]
  },
  {
   "cell_type": "code",
   "execution_count": 13,
   "id": "7ef7b336-ee0c-4a7a-8988-2a42ed40f805",
   "metadata": {},
   "outputs": [
    {
     "data": {
      "text/plain": [
       "[1, 2, 3, 4, 5, 20]"
      ]
     },
     "execution_count": 13,
     "metadata": {},
     "output_type": "execute_result"
    }
   ],
   "source": [
    "l + [20]"
   ]
  },
  {
   "cell_type": "markdown",
   "id": "9612b829-875a-4253-960a-1bd6cdf1962a",
   "metadata": {},
   "source": [
    "但是numpy会采用广播机制，将array上的每一儿元素都+20："
   ]
  },
  {
   "cell_type": "code",
   "execution_count": 14,
   "id": "b97e846d-4d8c-438a-ace3-07ad99224e35",
   "metadata": {},
   "outputs": [
    {
     "data": {
      "text/plain": [
       "array([21, 22, 23, 24, 25])"
      ]
     },
     "execution_count": 14,
     "metadata": {},
     "output_type": "execute_result"
    }
   ],
   "source": [
    "npa + 20"
   ]
  },
  {
   "cell_type": "code",
   "execution_count": 15,
   "id": "b0f3cbb1-d4c7-4ca9-a9ec-d219accc8e24",
   "metadata": {},
   "outputs": [],
   "source": [
    "l_2d = [[1, 2], [3, 4], [5, 6]]"
   ]
  },
  {
   "cell_type": "code",
   "execution_count": 16,
   "id": "0cdaf090-4b13-4590-99f6-c06dd1c31daf",
   "metadata": {},
   "outputs": [
    {
     "data": {
      "text/plain": [
       "[[1, 2], [3, 4], [5, 6]]"
      ]
     },
     "execution_count": 16,
     "metadata": {},
     "output_type": "execute_result"
    }
   ],
   "source": [
    "l_2d"
   ]
  },
  {
   "cell_type": "code",
   "execution_count": 17,
   "id": "22065355-c53d-4a12-9984-0795b5e0fc01",
   "metadata": {},
   "outputs": [
    {
     "data": {
      "text/plain": [
       "[1, 2]"
      ]
     },
     "execution_count": 17,
     "metadata": {},
     "output_type": "execute_result"
    }
   ],
   "source": [
    "l_2d[0]"
   ]
  },
  {
   "cell_type": "code",
   "execution_count": 18,
   "id": "902296db-1a96-44e1-9afb-b3ac9235ea4b",
   "metadata": {},
   "outputs": [
    {
     "data": {
      "text/plain": [
       "2"
      ]
     },
     "execution_count": 18,
     "metadata": {},
     "output_type": "execute_result"
    }
   ],
   "source": [
    "l_2d[0][1]"
   ]
  },
  {
   "cell_type": "code",
   "execution_count": 19,
   "id": "39244d8f-5702-41af-9c08-26ba787f6973",
   "metadata": {},
   "outputs": [
    {
     "data": {
      "text/plain": [
       "array([[1, 2],\n",
       "       [3, 4],\n",
       "       [5, 6]])"
      ]
     },
     "execution_count": 19,
     "metadata": {},
     "output_type": "execute_result"
    }
   ],
   "source": [
    "# 将其转换为 2d array\n",
    "npa_2d = np.array(l_2d)\n",
    "npa_2d"
   ]
  },
  {
   "cell_type": "code",
   "execution_count": 20,
   "id": "d059f280-9a62-4d8b-9b14-243340c35270",
   "metadata": {},
   "outputs": [
    {
     "data": {
      "text/plain": [
       "array([1, 2])"
      ]
     },
     "execution_count": 20,
     "metadata": {},
     "output_type": "execute_result"
    }
   ],
   "source": [
    "npa_2d[0]"
   ]
  },
  {
   "cell_type": "code",
   "execution_count": 21,
   "id": "ef2e5b67-6ff7-4206-8f9d-5e76ed8920f2",
   "metadata": {},
   "outputs": [
    {
     "data": {
      "text/plain": [
       "1"
      ]
     },
     "execution_count": 21,
     "metadata": {},
     "output_type": "execute_result"
    }
   ],
   "source": [
    "npa_2d[0][0]"
   ]
  },
  {
   "cell_type": "code",
   "execution_count": 22,
   "id": "5fd077e2-503c-45ad-b47c-19b38ec35919",
   "metadata": {},
   "outputs": [
    {
     "data": {
      "text/plain": [
       "(3, 2)"
      ]
     },
     "execution_count": 22,
     "metadata": {},
     "output_type": "execute_result"
    }
   ],
   "source": [
    "npa_2d.shape"
   ]
  },
  {
   "cell_type": "code",
   "execution_count": 23,
   "id": "cace1209-f016-4287-86dd-fe237794154e",
   "metadata": {},
   "outputs": [
    {
     "data": {
      "text/plain": [
       "array([[1., 2.],\n",
       "       [3., 4.],\n",
       "       [5., 6.]])"
      ]
     },
     "execution_count": 23,
     "metadata": {},
     "output_type": "execute_result"
    }
   ],
   "source": [
    "npa_2d_float = np.array(l_2d, dtype = \"float\")\n",
    "\n",
    "npa_2d_float"
   ]
  },
  {
   "cell_type": "code",
   "execution_count": 24,
   "id": "709d4b9b-2985-4d8a-8de3-df93a6a67b7d",
   "metadata": {},
   "outputs": [
    {
     "data": {
      "text/plain": [
       "array([[1, 2],\n",
       "       [3, 4],\n",
       "       [5, 6]])"
      ]
     },
     "execution_count": 24,
     "metadata": {},
     "output_type": "execute_result"
    }
   ],
   "source": [
    "npa_2d_float.astype(\"int\")  # astype(数据类型) 可以修改数据类型"
   ]
  },
  {
   "cell_type": "markdown",
   "id": "fb2686c6-37f9-4149-8abe-c38355eabdd0",
   "metadata": {},
   "source": [
    "## np.nan 和 np.inf"
   ]
  },
  {
   "cell_type": "markdown",
   "id": "47726344-773c-418f-804a-c09bb2004e49",
   "metadata": {},
   "source": [
    "np.nan 并不是一个数字，np.inf则表示无穷。"
   ]
  },
  {
   "cell_type": "code",
   "execution_count": 25,
   "id": "a4983be3-3b82-4ad3-81b9-d4d6f81e6508",
   "metadata": {},
   "outputs": [
    {
     "data": {
      "text/plain": [
       "False"
      ]
     },
     "execution_count": 25,
     "metadata": {},
     "output_type": "execute_result"
    }
   ],
   "source": [
    "np.nan == np.nan"
   ]
  },
  {
   "cell_type": "code",
   "execution_count": 27,
   "id": "5e5533f4-d2d3-4bcc-bfb1-f9fdf84a8dad",
   "metadata": {},
   "outputs": [
    {
     "data": {
      "text/plain": [
       "True"
      ]
     },
     "execution_count": 27,
     "metadata": {},
     "output_type": "execute_result"
    }
   ],
   "source": [
    "None == None"
   ]
  },
  {
   "cell_type": "code",
   "execution_count": 26,
   "id": "7e1592b2-aac9-48ed-b377-70dd0efdc768",
   "metadata": {},
   "outputs": [
    {
     "data": {
      "text/plain": [
       "True"
      ]
     },
     "execution_count": 26,
     "metadata": {},
     "output_type": "execute_result"
    }
   ],
   "source": [
    "np.inf == np.inf"
   ]
  },
  {
   "cell_type": "code",
   "execution_count": 28,
   "id": "e232251b-6b79-4a51-b6ce-1d7857c9c3f3",
   "metadata": {},
   "outputs": [
    {
     "data": {
      "text/plain": [
       "array([[1., 2.],\n",
       "       [3., 4.],\n",
       "       [5., 6.]])"
      ]
     },
     "execution_count": 28,
     "metadata": {},
     "output_type": "execute_result"
    }
   ],
   "source": [
    "npa_2d_float"
   ]
  },
  {
   "cell_type": "code",
   "execution_count": 29,
   "id": "43dd6bf7-2f60-4c1c-a026-6ec3b889632e",
   "metadata": {},
   "outputs": [],
   "source": [
    "npa_2d_float = npa_2d_float.astype(\"int\")"
   ]
  },
  {
   "cell_type": "code",
   "execution_count": 30,
   "id": "4d85f4da-0853-4d2d-a755-28a9f608a626",
   "metadata": {},
   "outputs": [
    {
     "data": {
      "text/plain": [
       "array([[1, 2],\n",
       "       [3, 4],\n",
       "       [5, 6]])"
      ]
     },
     "execution_count": 30,
     "metadata": {},
     "output_type": "execute_result"
    }
   ],
   "source": [
    "npa_2d_float"
   ]
  },
  {
   "cell_type": "code",
   "execution_count": 31,
   "id": "a8383481-1c4f-453d-ab22-2dde45496894",
   "metadata": {},
   "outputs": [
    {
     "data": {
      "text/plain": [
       "array([[1, 2],\n",
       "       [3, 4],\n",
       "       [5, 6]])"
      ]
     },
     "execution_count": 31,
     "metadata": {},
     "output_type": "execute_result"
    }
   ],
   "source": [
    "npa_2d"
   ]
  },
  {
   "cell_type": "code",
   "execution_count": 33,
   "id": "14b743fd-62c7-445a-981f-d1dadb6c9d07",
   "metadata": {},
   "outputs": [
    {
     "data": {
      "text/plain": [
       "1"
      ]
     },
     "execution_count": 33,
     "metadata": {},
     "output_type": "execute_result"
    }
   ],
   "source": [
    "npa_2d[0][0]"
   ]
  },
  {
   "cell_type": "code",
   "execution_count": 34,
   "id": "1d886fdc-8318-4ecf-8d8c-4810319b0d89",
   "metadata": {},
   "outputs": [
    {
     "ename": "ValueError",
     "evalue": "cannot convert float NaN to integer",
     "output_type": "error",
     "traceback": [
      "\u001b[1;31m---------------------------------------------------------------------------\u001b[0m",
      "\u001b[1;31mValueError\u001b[0m                                Traceback (most recent call last)",
      "Cell \u001b[1;32mIn[34], line 1\u001b[0m\n\u001b[1;32m----> 1\u001b[0m npa_2d[\u001b[38;5;241m0\u001b[39m][\u001b[38;5;241m0\u001b[39m] \u001b[38;5;241m=\u001b[39m np\u001b[38;5;241m.\u001b[39mnan\n",
      "\u001b[1;31mValueError\u001b[0m: cannot convert float NaN to integer"
     ]
    }
   ],
   "source": [
    "npa_2d[0][0] = np.nan"
   ]
  },
  {
   "cell_type": "markdown",
   "id": "074eb6da-56a0-4784-9013-e0eb67577624",
   "metadata": {},
   "source": [
    "这个错误是由于尝试将浮点数 NaN（Not a Number）转换为整数导致的。"
   ]
  },
  {
   "cell_type": "code",
   "execution_count": 35,
   "id": "cdbda4bb-7b88-4124-b72a-c5216e87b9ee",
   "metadata": {},
   "outputs": [
    {
     "data": {
      "text/plain": [
       "float"
      ]
     },
     "execution_count": 35,
     "metadata": {},
     "output_type": "execute_result"
    }
   ],
   "source": [
    "type(np.nan)"
   ]
  },
  {
   "cell_type": "code",
   "execution_count": 36,
   "id": "75948fc9-2e47-4963-a8d4-553899f877ed",
   "metadata": {},
   "outputs": [
    {
     "ename": "OverflowError",
     "evalue": "cannot convert float infinity to integer",
     "output_type": "error",
     "traceback": [
      "\u001b[1;31m---------------------------------------------------------------------------\u001b[0m",
      "\u001b[1;31mOverflowError\u001b[0m                             Traceback (most recent call last)",
      "Cell \u001b[1;32mIn[36], line 1\u001b[0m\n\u001b[1;32m----> 1\u001b[0m npa_2d[\u001b[38;5;241m0\u001b[39m][\u001b[38;5;241m0\u001b[39m] \u001b[38;5;241m=\u001b[39m np\u001b[38;5;241m.\u001b[39minf\n",
      "\u001b[1;31mOverflowError\u001b[0m: cannot convert float infinity to integer"
     ]
    }
   ],
   "source": [
    "npa_2d[0][0] = np.inf"
   ]
  },
  {
   "cell_type": "code",
   "execution_count": 37,
   "id": "4f14adca-a1dd-417f-8445-23dac10f2924",
   "metadata": {},
   "outputs": [
    {
     "data": {
      "text/plain": [
       "float"
      ]
     },
     "execution_count": 37,
     "metadata": {},
     "output_type": "execute_result"
    }
   ],
   "source": [
    "type(np.inf)"
   ]
  },
  {
   "cell_type": "code",
   "execution_count": 39,
   "id": "6343bcd7-15f4-416f-976a-3a018ad0c866",
   "metadata": {},
   "outputs": [
    {
     "data": {
      "text/plain": [
       "array([[False, False],\n",
       "       [False, False],\n",
       "       [False, False]])"
      ]
     },
     "execution_count": 39,
     "metadata": {},
     "output_type": "execute_result"
    }
   ],
   "source": [
    "np.isnan(npa_2d_float)"
   ]
  },
  {
   "cell_type": "code",
   "execution_count": 41,
   "id": "178fd66b-048d-4582-a358-7721e1789b47",
   "metadata": {},
   "outputs": [
    {
     "data": {
      "text/plain": [
       "array([[1., 2.],\n",
       "       [3., 4.],\n",
       "       [5., 6.]])"
      ]
     },
     "execution_count": 41,
     "metadata": {},
     "output_type": "execute_result"
    }
   ],
   "source": [
    "npa_2d_float.astype(\"float\")"
   ]
  },
  {
   "cell_type": "code",
   "execution_count": 42,
   "id": "a69393d3-9d60-4bb5-b566-402b2af3116a",
   "metadata": {},
   "outputs": [
    {
     "ename": "ValueError",
     "evalue": "cannot convert float NaN to integer",
     "output_type": "error",
     "traceback": [
      "\u001b[1;31m---------------------------------------------------------------------------\u001b[0m",
      "\u001b[1;31mValueError\u001b[0m                                Traceback (most recent call last)",
      "Cell \u001b[1;32mIn[42], line 1\u001b[0m\n\u001b[1;32m----> 1\u001b[0m npa_2d_float[\u001b[38;5;241m0\u001b[39m][\u001b[38;5;241m0\u001b[39m] \u001b[38;5;241m=\u001b[39m np\u001b[38;5;241m.\u001b[39mnan\n",
      "\u001b[1;31mValueError\u001b[0m: cannot convert float NaN to integer"
     ]
    }
   ],
   "source": [
    "npa_2d_float[0][0] = np.nan"
   ]
  },
  {
   "cell_type": "code",
   "execution_count": 43,
   "id": "187ff3de-d763-4aed-b158-ac2b52ea27c2",
   "metadata": {},
   "outputs": [
    {
     "name": "stdout",
     "output_type": "stream",
     "text": [
      "[[nan  2.]\n",
      " [ 3.  4.]\n",
      " [ 5.  6.]]\n"
     ]
    }
   ],
   "source": [
    "import numpy as np\n",
    "\n",
    "# 创建原始整数数组\n",
    "npa_2d = np.array([[1, 2],\n",
    "                   [3, 4],\n",
    "                   [5, 6]])\n",
    "\n",
    "# 创建浮点数类型的新数组\n",
    "npa_2d_float = np.empty_like(npa_2d, dtype=float)\n",
    "\n",
    "# 将原始数组的值复制到新数组中\n",
    "np.copyto(npa_2d_float, npa_2d)\n",
    "\n",
    "# 修改新数组中的元素为 NaN\n",
    "npa_2d_float[0][0] = np.nan\n",
    "\n",
    "print(npa_2d_float)"
   ]
  },
  {
   "cell_type": "code",
   "execution_count": 44,
   "id": "d55ae3c8-5707-4e4b-97af-28e53c74a4c3",
   "metadata": {},
   "outputs": [
    {
     "data": {
      "text/plain": [
       "array([[ True, False],\n",
       "       [False, False],\n",
       "       [False, False]])"
      ]
     },
     "execution_count": 44,
     "metadata": {},
     "output_type": "execute_result"
    }
   ],
   "source": [
    "np.isnan(npa_2d_float)"
   ]
  },
  {
   "cell_type": "code",
   "execution_count": 45,
   "id": "8a0ba92a-5fcd-40a5-85f5-33fc7ad8515a",
   "metadata": {},
   "outputs": [
    {
     "data": {
      "text/plain": [
       "array([[False, False],\n",
       "       [False, False],\n",
       "       [False, False]])"
      ]
     },
     "execution_count": 45,
     "metadata": {},
     "output_type": "execute_result"
    }
   ],
   "source": [
    "np.isinf(npa_2d_float)"
   ]
  },
  {
   "cell_type": "markdown",
   "id": "0058c4c3-6af4-4d7a-b961-a006fa6dfdbd",
   "metadata": {},
   "source": [
    "## Statistical Operations"
   ]
  },
  {
   "cell_type": "code",
   "execution_count": 59,
   "id": "136e46fc-208c-4e24-a468-24fc661fa651",
   "metadata": {},
   "outputs": [],
   "source": [
    "# mean, var, std, median"
   ]
  },
  {
   "cell_type": "code",
   "execution_count": 50,
   "id": "4054f9ef-fdeb-4d5c-800b-957adccbd212",
   "metadata": {},
   "outputs": [],
   "source": [
    "npa_2d = np.array([[0., 2.],\n",
    "         [3., 0.],\n",
    "         [3., 4.]])"
   ]
  },
  {
   "cell_type": "code",
   "execution_count": 51,
   "id": "ef22c120-064b-435f-906b-8c7bbfe76149",
   "metadata": {},
   "outputs": [
    {
     "data": {
      "text/plain": [
       "array([[0., 2.],\n",
       "       [3., 0.],\n",
       "       [3., 4.]])"
      ]
     },
     "execution_count": 51,
     "metadata": {},
     "output_type": "execute_result"
    }
   ],
   "source": [
    "npa_2d"
   ]
  },
  {
   "cell_type": "code",
   "execution_count": 52,
   "id": "834803ad-f5c2-41d2-a5ae-6d0fdddc68c6",
   "metadata": {},
   "outputs": [
    {
     "data": {
      "text/plain": [
       "2.0"
      ]
     },
     "execution_count": 52,
     "metadata": {},
     "output_type": "execute_result"
    }
   ],
   "source": [
    "npa_2d.mean()"
   ]
  },
  {
   "cell_type": "code",
   "execution_count": 54,
   "id": "0f16d9c8-864b-47a2-9aed-edfe171e87f9",
   "metadata": {},
   "outputs": [
    {
     "data": {
      "text/plain": [
       "2.3333333333333335"
      ]
     },
     "execution_count": 54,
     "metadata": {},
     "output_type": "execute_result"
    }
   ],
   "source": [
    "npa_2d.var()  # deviation"
   ]
  },
  {
   "cell_type": "code",
   "execution_count": 55,
   "id": "98b4f441-a1bd-45d9-9042-f4292421b9bd",
   "metadata": {},
   "outputs": [
    {
     "data": {
      "text/plain": [
       "1.5275252316519468"
      ]
     },
     "execution_count": 55,
     "metadata": {},
     "output_type": "execute_result"
    }
   ],
   "source": [
    "npa_2d.std()  # standard deviation"
   ]
  },
  {
   "cell_type": "code",
   "execution_count": 57,
   "id": "b72a1bb3-7d4f-427f-b48f-098bc7109ad7",
   "metadata": {},
   "outputs": [
    {
     "data": {
      "text/plain": [
       "4.0"
      ]
     },
     "execution_count": 57,
     "metadata": {},
     "output_type": "execute_result"
    }
   ],
   "source": [
    "npa_2d.max()  # 最大值"
   ]
  },
  {
   "cell_type": "code",
   "execution_count": 58,
   "id": "298a7fe9-7cae-4852-a983-71c57d5d6901",
   "metadata": {},
   "outputs": [
    {
     "data": {
      "text/plain": [
       "0.0"
      ]
     },
     "execution_count": 58,
     "metadata": {},
     "output_type": "execute_result"
    }
   ],
   "source": [
    "npa_2d.min()  # 最小值"
   ]
  },
  {
   "cell_type": "code",
   "execution_count": 63,
   "id": "1b889562-7278-4ac4-8e98-ecd2ae79d829",
   "metadata": {},
   "outputs": [
    {
     "ename": "AttributeError",
     "evalue": "'numpy.ndarray' object has no attribute 'median'",
     "output_type": "error",
     "traceback": [
      "\u001b[1;31m---------------------------------------------------------------------------\u001b[0m",
      "\u001b[1;31mAttributeError\u001b[0m                            Traceback (most recent call last)",
      "Cell \u001b[1;32mIn[63], line 1\u001b[0m\n\u001b[1;32m----> 1\u001b[0m \u001b[43mnpa_2d\u001b[49m\u001b[38;5;241;43m.\u001b[39;49m\u001b[43mmedian\u001b[49m()\n",
      "\u001b[1;31mAttributeError\u001b[0m: 'numpy.ndarray' object has no attribute 'median'"
     ]
    }
   ],
   "source": [
    "npa_2d.median() # 中位数"
   ]
  },
  {
   "cell_type": "code",
   "execution_count": 64,
   "id": "696f83ca-8d59-435b-9c93-13ace86e6de0",
   "metadata": {},
   "outputs": [
    {
     "data": {
      "text/plain": [
       "2.5"
      ]
     },
     "execution_count": 64,
     "metadata": {},
     "output_type": "execute_result"
    }
   ],
   "source": [
    "np.median(npa_2d)"
   ]
  },
  {
   "cell_type": "markdown",
   "id": "5b4b5487-bd09-45fe-998c-382e0893e193",
   "metadata": {},
   "source": [
    "## Shape，Reshape，Ravel 和 Flattern"
   ]
  },
  {
   "cell_type": "code",
   "execution_count": 67,
   "id": "0f66c2ac-8b1a-4a6d-baba-8019ec8ba325",
   "metadata": {},
   "outputs": [
    {
     "data": {
      "text/plain": [
       "array([[0., 2.],\n",
       "       [3., 0.],\n",
       "       [3., 4.]])"
      ]
     },
     "execution_count": 67,
     "metadata": {},
     "output_type": "execute_result"
    }
   ],
   "source": [
    "npa_2d"
   ]
  },
  {
   "cell_type": "code",
   "execution_count": 68,
   "id": "f97b06d9-aa5f-4d5a-a955-0d23d581625f",
   "metadata": {},
   "outputs": [
    {
     "data": {
      "text/plain": [
       "(3, 2)"
      ]
     },
     "execution_count": 68,
     "metadata": {},
     "output_type": "execute_result"
    }
   ],
   "source": [
    "npa_2d.shape"
   ]
  },
  {
   "cell_type": "code",
   "execution_count": 69,
   "id": "3a814927-5f1a-4214-8d2e-73d96a00ae31",
   "metadata": {},
   "outputs": [
    {
     "data": {
      "text/plain": [
       "array([[0., 2., 3.],\n",
       "       [0., 3., 4.]])"
      ]
     },
     "execution_count": 69,
     "metadata": {},
     "output_type": "execute_result"
    }
   ],
   "source": [
    "npa_2d.reshape(2, 3)"
   ]
  },
  {
   "cell_type": "code",
   "execution_count": 70,
   "id": "e832127a-4615-4b46-9245-e3c9c5add2a9",
   "metadata": {},
   "outputs": [
    {
     "ename": "ValueError",
     "evalue": "cannot reshape array of size 6 into shape (1,3)",
     "output_type": "error",
     "traceback": [
      "\u001b[1;31m---------------------------------------------------------------------------\u001b[0m",
      "\u001b[1;31mValueError\u001b[0m                                Traceback (most recent call last)",
      "Cell \u001b[1;32mIn[70], line 2\u001b[0m\n\u001b[0;32m      1\u001b[0m \u001b[38;5;66;03m# 但是可能出错\u001b[39;00m\n\u001b[1;32m----> 2\u001b[0m \u001b[43mnpa_2d\u001b[49m\u001b[38;5;241;43m.\u001b[39;49m\u001b[43mreshape\u001b[49m\u001b[43m(\u001b[49m\u001b[38;5;241;43m1\u001b[39;49m\u001b[43m,\u001b[49m\u001b[43m \u001b[49m\u001b[38;5;241;43m3\u001b[39;49m\u001b[43m)\u001b[49m\n",
      "\u001b[1;31mValueError\u001b[0m: cannot reshape array of size 6 into shape (1,3)"
     ]
    }
   ],
   "source": [
    "# 但是可能出错\n",
    "npa_2d.reshape(1, 3)"
   ]
  },
  {
   "cell_type": "code",
   "execution_count": 71,
   "id": "ef3295e6-163c-4c44-b744-b264dda14e7f",
   "metadata": {},
   "outputs": [
    {
     "data": {
      "text/plain": [
       "array([[0., 2.],\n",
       "       [3., 0.],\n",
       "       [3., 4.]])"
      ]
     },
     "execution_count": 71,
     "metadata": {},
     "output_type": "execute_result"
    }
   ],
   "source": [
    "npa_2d"
   ]
  },
  {
   "cell_type": "code",
   "execution_count": 72,
   "id": "040822e7-64c6-48d3-a3ae-f7fbb75b7ea0",
   "metadata": {},
   "outputs": [
    {
     "data": {
      "text/plain": [
       "array([[0., 2., 3., 0., 3., 4.]])"
      ]
     },
     "execution_count": 72,
     "metadata": {},
     "output_type": "execute_result"
    }
   ],
   "source": [
    "npa_2d.reshape(1, 6)"
   ]
  },
  {
   "cell_type": "code",
   "execution_count": 73,
   "id": "99bfebfe-6fc3-4ec2-b16a-70d1483a5881",
   "metadata": {},
   "outputs": [
    {
     "data": {
      "text/plain": [
       "(1, 6)"
      ]
     },
     "execution_count": 73,
     "metadata": {},
     "output_type": "execute_result"
    }
   ],
   "source": [
    "npa_2d.reshape(1, 6).shape"
   ]
  },
  {
   "cell_type": "code",
   "execution_count": 74,
   "id": "329c7431-06a9-4c3a-af8e-3229b1e9dc3b",
   "metadata": {},
   "outputs": [
    {
     "data": {
      "text/plain": [
       "(6,)"
      ]
     },
     "execution_count": 74,
     "metadata": {},
     "output_type": "execute_result"
    }
   ],
   "source": [
    "npa_2d.reshape(1, 6).ravel().shape  # 将其修改为一维数组"
   ]
  },
  {
   "cell_type": "code",
   "execution_count": 75,
   "id": "2dce3d6c-8fd2-4f93-8edf-0cac7bdd9e65",
   "metadata": {},
   "outputs": [
    {
     "data": {
      "text/plain": [
       "array([[0., 2.],\n",
       "       [3., 0.],\n",
       "       [3., 4.]])"
      ]
     },
     "execution_count": 75,
     "metadata": {},
     "output_type": "execute_result"
    }
   ],
   "source": [
    "npa_2d"
   ]
  },
  {
   "cell_type": "code",
   "execution_count": 77,
   "id": "cb590334-4948-4596-a0f7-b30f43bf1e3f",
   "metadata": {},
   "outputs": [
    {
     "data": {
      "text/plain": [
       "array([0., 2., 3., 0., 3., 4.])"
      ]
     },
     "execution_count": 77,
     "metadata": {},
     "output_type": "execute_result"
    }
   ],
   "source": [
    "npa_2d.flatten()  # 直接将其展平"
   ]
  },
  {
   "cell_type": "markdown",
   "id": "8746a88c-caed-4897-a933-beb2b8dc21c2",
   "metadata": {},
   "source": [
    "## Sequence，Repetitions和Random Numbers"
   ]
  },
  {
   "cell_type": "code",
   "execution_count": 78,
   "id": "85347f7b-c17f-49dd-a0a4-33c6042d909f",
   "metadata": {},
   "outputs": [
    {
     "data": {
      "text/plain": [
       "array([1, 2, 3, 4])"
      ]
     },
     "execution_count": 78,
     "metadata": {},
     "output_type": "execute_result"
    }
   ],
   "source": [
    "np.arange(1, 5)"
   ]
  },
  {
   "cell_type": "code",
   "execution_count": 79,
   "id": "44b2b2be-b61b-44e6-946d-ae9f3afe9b0e",
   "metadata": {},
   "outputs": [
    {
     "data": {
      "text/plain": [
       "array([1., 2., 3., 4.])"
      ]
     },
     "execution_count": 79,
     "metadata": {},
     "output_type": "execute_result"
    }
   ],
   "source": [
    "np.arange(1, 5, dtype = \"float\")"
   ]
  },
  {
   "cell_type": "code",
   "execution_count": 81,
   "id": "3e7be278-76c5-46e0-ab00-30505edab410",
   "metadata": {},
   "outputs": [
    {
     "data": {
      "text/plain": [
       "array([ 1,  4,  7, 10, 13, 16, 19])"
      ]
     },
     "execution_count": 81,
     "metadata": {},
     "output_type": "execute_result"
    }
   ],
   "source": [
    "np.arange(1, 20, 3)"
   ]
  },
  {
   "cell_type": "code",
   "execution_count": 82,
   "id": "1bb28b8a-54a6-4668-b6c0-c6b754ae6e2d",
   "metadata": {},
   "outputs": [
    {
     "data": {
      "text/plain": [
       "array([ 1. , 10.5, 20. ])"
      ]
     },
     "execution_count": 82,
     "metadata": {},
     "output_type": "execute_result"
    }
   ],
   "source": [
    "# linspace 可以获得 开始-结束 间隔相同的 n 个数字\n",
    "np.linspace(1, 20, 3)"
   ]
  },
  {
   "cell_type": "code",
   "execution_count": 83,
   "id": "47db87d9-39de-49a1-9354-6d1e45288708",
   "metadata": {},
   "outputs": [
    {
     "data": {
      "text/plain": [
       "array([ 1.        ,  7.33333333, 13.66666667, 20.        ])"
      ]
     },
     "execution_count": 83,
     "metadata": {},
     "output_type": "execute_result"
    }
   ],
   "source": [
    "np.linspace(1, 20, 4)"
   ]
  },
  {
   "cell_type": "code",
   "execution_count": 85,
   "id": "af86a9fe-57f9-452d-9ec9-b1aff6fa7770",
   "metadata": {},
   "outputs": [
    {
     "data": {
      "text/plain": [
       "array([ 1,  5, 10, 15, 20])"
      ]
     },
     "execution_count": 85,
     "metadata": {},
     "output_type": "execute_result"
    }
   ],
   "source": [
    "np.linspace(1, 20, 5).astype(\"int\")"
   ]
  },
  {
   "cell_type": "code",
   "execution_count": 86,
   "id": "cb66de1e-1156-4d84-b2e7-f97fbc96aa72",
   "metadata": {},
   "outputs": [
    {
     "data": {
      "text/plain": [
       "array([1.00000000e+01, 2.78255940e+06, 7.74263683e+11, 2.15443469e+17,\n",
       "       5.99484250e+22, 1.66810054e+28, 4.64158883e+33, 1.29154967e+39,\n",
       "       3.59381366e+44, 1.00000000e+50])"
      ]
     },
     "execution_count": 86,
     "metadata": {},
     "output_type": "execute_result"
    }
   ],
   "source": [
    "np.logspace(1, 50, 10)"
   ]
  },
  {
   "cell_type": "code",
   "execution_count": 87,
   "id": "20a14812-258e-43be-aa09-8c1212936986",
   "metadata": {},
   "outputs": [
    {
     "data": {
      "text/plain": [
       "array([[0., 0., 0., 0., 0.]])"
      ]
     },
     "execution_count": 87,
     "metadata": {},
     "output_type": "execute_result"
    }
   ],
   "source": [
    "np.zeros([1, 5])"
   ]
  },
  {
   "cell_type": "code",
   "execution_count": 88,
   "id": "053b16ac-743d-4fb6-b82b-5589c297fc85",
   "metadata": {},
   "outputs": [
    {
     "data": {
      "text/plain": [
       "array([[1., 1., 1., 1., 1.]])"
      ]
     },
     "execution_count": 88,
     "metadata": {},
     "output_type": "execute_result"
    }
   ],
   "source": [
    "np.ones([1, 5])"
   ]
  },
  {
   "cell_type": "code",
   "execution_count": 90,
   "id": "e5085d5d-1eea-4a40-9de0-b49cde7e6a54",
   "metadata": {},
   "outputs": [
    {
     "data": {
      "text/plain": [
       "array([1, 2, 3, 1, 2, 3, 1, 2, 3])"
      ]
     },
     "execution_count": 90,
     "metadata": {},
     "output_type": "execute_result"
    }
   ],
   "source": [
    "# 重复\n",
    "np.tile([1, 2, 3], 3)"
   ]
  },
  {
   "cell_type": "code",
   "execution_count": 91,
   "id": "f4d94d46-0713-48ee-9888-1eda1195fae0",
   "metadata": {},
   "outputs": [
    {
     "data": {
      "text/plain": [
       "array([1, 1, 1, 2, 2, 2, 3, 3, 3])"
      ]
     },
     "execution_count": 91,
     "metadata": {},
     "output_type": "execute_result"
    }
   ],
   "source": [
    "# 重复\n",
    "np.repeat([1, 2, 3], 3)"
   ]
  },
  {
   "cell_type": "code",
   "execution_count": 92,
   "id": "382de1c8-3932-4122-a7d5-62d62411a7c2",
   "metadata": {},
   "outputs": [
    {
     "data": {
      "text/plain": [
       "array([[0.70035167, 0.06006385, 0.50655267],\n",
       "       [0.36528735, 0.68866206, 0.94890702],\n",
       "       [0.13852133, 0.63630133, 0.65045395]])"
      ]
     },
     "execution_count": 92,
     "metadata": {},
     "output_type": "execute_result"
    }
   ],
   "source": [
    "# 随意一个符合大小的array\n",
    "np.random.rand(3, 3) # 生成一个大小为 3 * 3 的array"
   ]
  },
  {
   "cell_type": "code",
   "execution_count": 94,
   "id": "6046430e-9d9e-4d74-9016-a9974ba206d1",
   "metadata": {},
   "outputs": [
    {
     "data": {
      "text/plain": [
       "array([[79, 89, 22],\n",
       "       [17, 77, 59],\n",
       "       [29,  3, 71]])"
      ]
     },
     "execution_count": 94,
     "metadata": {},
     "output_type": "execute_result"
    }
   ],
   "source": [
    "# 或者这样\n",
    "np.random.randint(0, 100, [3, 3])  # 生成一个 3*3 范围在 0 ~ 100 之间的 array"
   ]
  },
  {
   "cell_type": "code",
   "execution_count": 95,
   "id": "87709f2e-374a-4bb7-9b76-80e51fc59733",
   "metadata": {},
   "outputs": [
    {
     "data": {
      "text/plain": [
       "array([[0., 2.],\n",
       "       [3., 0.],\n",
       "       [3., 4.]])"
      ]
     },
     "execution_count": 95,
     "metadata": {},
     "output_type": "execute_result"
    }
   ],
   "source": [
    "npa_2d"
   ]
  },
  {
   "cell_type": "code",
   "execution_count": 96,
   "id": "454372e3-d4dc-466b-b078-6c3e725dd18d",
   "metadata": {},
   "outputs": [
    {
     "data": {
      "text/plain": [
       "array([0., 2., 3., 4.])"
      ]
     },
     "execution_count": 96,
     "metadata": {},
     "output_type": "execute_result"
    }
   ],
   "source": [
    "np.unique(npa_2d)"
   ]
  },
  {
   "cell_type": "markdown",
   "id": "e6ccfb6a-f7da-4b52-aee0-e9c4ed12b89b",
   "metadata": {},
   "source": [
    "## Where() 函数"
   ]
  },
  {
   "cell_type": "code",
   "execution_count": 97,
   "id": "54dd0802-8a48-465f-9dea-bd544be02063",
   "metadata": {},
   "outputs": [],
   "source": [
    "arr = np.array([8, 94, 8, 56, 1, 3, 4, 5, 7])"
   ]
  },
  {
   "cell_type": "code",
   "execution_count": 98,
   "id": "09b19713-2562-4c14-a615-b04f867f7186",
   "metadata": {},
   "outputs": [
    {
     "data": {
      "text/plain": [
       "array([ 8, 94,  8, 56,  1,  3,  4,  5,  7])"
      ]
     },
     "execution_count": 98,
     "metadata": {},
     "output_type": "execute_result"
    }
   ],
   "source": [
    "arr"
   ]
  },
  {
   "cell_type": "code",
   "execution_count": 99,
   "id": "aa0b9825-ac41-4298-b35d-2111a3533847",
   "metadata": {},
   "outputs": [
    {
     "data": {
      "text/plain": [
       "(array([1, 3], dtype=int64),)"
      ]
     },
     "execution_count": 99,
     "metadata": {},
     "output_type": "execute_result"
    }
   ],
   "source": [
    "np.where(arr > 15)"
   ]
  },
  {
   "cell_type": "markdown",
   "id": "9c76335d-fe78-4a55-86e8-e91de3864e1f",
   "metadata": {},
   "source": [
    "返回一个arr，给出所有满足的元素的index。"
   ]
  },
  {
   "cell_type": "code",
   "execution_count": 100,
   "id": "19ff68f3-5435-4c77-91c0-e67d33abe728",
   "metadata": {},
   "outputs": [],
   "source": [
    "index = np.where(arr > 15)"
   ]
  },
  {
   "cell_type": "code",
   "execution_count": 101,
   "id": "6ffdb282-5cec-4f48-b52c-0dc80db95658",
   "metadata": {},
   "outputs": [
    {
     "data": {
      "text/plain": [
       "(array([1, 3], dtype=int64),)"
      ]
     },
     "execution_count": 101,
     "metadata": {},
     "output_type": "execute_result"
    }
   ],
   "source": [
    "index"
   ]
  },
  {
   "cell_type": "code",
   "execution_count": 102,
   "id": "5f190ef8-c82a-462f-8722-768952d8aa94",
   "metadata": {},
   "outputs": [
    {
     "data": {
      "text/plain": [
       "array([94, 56])"
      ]
     },
     "execution_count": 102,
     "metadata": {},
     "output_type": "execute_result"
    }
   ],
   "source": [
    "arr[index]"
   ]
  },
  {
   "cell_type": "code",
   "execution_count": 104,
   "id": "98d3bef4-9a29-4d98-9c18-14c9f3b1ec56",
   "metadata": {},
   "outputs": [
    {
     "data": {
      "text/plain": [
       "array([8, 8])"
      ]
     },
     "execution_count": 104,
     "metadata": {},
     "output_type": "execute_result"
    }
   ],
   "source": [
    "index = np.where(arr == 8)\n",
    "arr[index]"
   ]
  },
  {
   "cell_type": "code",
   "execution_count": 107,
   "id": "84baf76a-e14b-4c07-9c2d-520b9f2ec0ea",
   "metadata": {},
   "outputs": [
    {
     "data": {
      "text/plain": [
       "array([False,  True, False,  True, False, False, False, False, False])"
      ]
     },
     "execution_count": 107,
     "metadata": {},
     "output_type": "execute_result"
    }
   ],
   "source": [
    "# 如果不使用 where()\n",
    "arr > 15  # 还是广播机制"
   ]
  },
  {
   "cell_type": "code",
   "execution_count": 108,
   "id": "fac85e19-e4ba-4090-903c-6b750fbcbb10",
   "metadata": {},
   "outputs": [
    {
     "data": {
      "text/plain": [
       "array([94, 56])"
      ]
     },
     "execution_count": 108,
     "metadata": {},
     "output_type": "execute_result"
    }
   ],
   "source": [
    "arr[arr > 15]"
   ]
  },
  {
   "cell_type": "code",
   "execution_count": 110,
   "id": "1fc13ad4-1a84-4997-952d-7082778bb8c4",
   "metadata": {},
   "outputs": [
    {
     "data": {
      "text/plain": [
       "94"
      ]
     },
     "execution_count": 110,
     "metadata": {},
     "output_type": "execute_result"
    }
   ],
   "source": [
    "arr.max()"
   ]
  },
  {
   "cell_type": "code",
   "execution_count": 111,
   "id": "8c63f223-1717-4e25-a200-5d1ea280089e",
   "metadata": {},
   "outputs": [
    {
     "data": {
      "text/plain": [
       "1"
      ]
     },
     "execution_count": 111,
     "metadata": {},
     "output_type": "execute_result"
    }
   ],
   "source": [
    "arr.argmax()"
   ]
  },
  {
   "cell_type": "code",
   "execution_count": 112,
   "id": "7bb35732-931b-41e5-895f-4971735fba1d",
   "metadata": {},
   "outputs": [
    {
     "data": {
      "text/plain": [
       "4"
      ]
     },
     "execution_count": 112,
     "metadata": {},
     "output_type": "execute_result"
    }
   ],
   "source": [
    "arr.argmin()"
   ]
  },
  {
   "cell_type": "code",
   "execution_count": 113,
   "id": "208710dc-8c5d-4c42-8711-88b0f5f450d7",
   "metadata": {},
   "outputs": [
    {
     "data": {
      "text/plain": [
       "1"
      ]
     },
     "execution_count": 113,
     "metadata": {},
     "output_type": "execute_result"
    }
   ],
   "source": [
    "arr[arr.argmin()]"
   ]
  },
  {
   "cell_type": "markdown",
   "id": "fb009144-779c-4cf6-bd75-982d8b0e1d0d",
   "metadata": {},
   "source": [
    "## File Read and Write"
   ]
  },
  {
   "cell_type": "code",
   "execution_count": 115,
   "id": "ad8be47d-7bbf-434f-9a9a-f5f29c17a4ed",
   "metadata": {},
   "outputs": [
    {
     "data": {
      "text/plain": [
       "array([[0., 2.],\n",
       "       [3., 0.],\n",
       "       [3., 4.]])"
      ]
     },
     "execution_count": 115,
     "metadata": {},
     "output_type": "execute_result"
    }
   ],
   "source": [
    "npa_2d"
   ]
  },
  {
   "cell_type": "code",
   "execution_count": 117,
   "id": "98e1166b-9435-482f-bfd6-e836044c084b",
   "metadata": {},
   "outputs": [],
   "source": [
    "np.savetxt(\"npa_2d.csv\", npa_2d, delimiter = \",\")  # 本地就出现了一个npa_2d的csv文件"
   ]
  },
  {
   "cell_type": "code",
   "execution_count": 118,
   "id": "0b9b3b5f-bd8c-497a-9ab4-a5064be26ed1",
   "metadata": {},
   "outputs": [
    {
     "ename": "ValueError",
     "evalue": "could not convert string '0.000000000000000000e+00,2.000000000000000000e+00' to float64 at row 0, column 1.",
     "output_type": "error",
     "traceback": [
      "\u001b[1;31m---------------------------------------------------------------------------\u001b[0m",
      "\u001b[1;31mValueError\u001b[0m                                Traceback (most recent call last)",
      "Cell \u001b[1;32mIn[118], line 1\u001b[0m\n\u001b[1;32m----> 1\u001b[0m \u001b[43mnp\u001b[49m\u001b[38;5;241;43m.\u001b[39;49m\u001b[43mloadtxt\u001b[49m\u001b[43m(\u001b[49m\u001b[38;5;124;43m\"\u001b[39;49m\u001b[38;5;124;43mnpa_2d.csv\u001b[39;49m\u001b[38;5;124;43m\"\u001b[39;49m\u001b[43m)\u001b[49m\n",
      "File \u001b[1;32m~\\anaconda3\\lib\\site-packages\\numpy\\lib\\npyio.py:1338\u001b[0m, in \u001b[0;36mloadtxt\u001b[1;34m(fname, dtype, comments, delimiter, converters, skiprows, usecols, unpack, ndmin, encoding, max_rows, quotechar, like)\u001b[0m\n\u001b[0;32m   1335\u001b[0m \u001b[38;5;28;01mif\u001b[39;00m \u001b[38;5;28misinstance\u001b[39m(delimiter, \u001b[38;5;28mbytes\u001b[39m):\n\u001b[0;32m   1336\u001b[0m     delimiter \u001b[38;5;241m=\u001b[39m delimiter\u001b[38;5;241m.\u001b[39mdecode(\u001b[38;5;124m'\u001b[39m\u001b[38;5;124mlatin1\u001b[39m\u001b[38;5;124m'\u001b[39m)\n\u001b[1;32m-> 1338\u001b[0m arr \u001b[38;5;241m=\u001b[39m \u001b[43m_read\u001b[49m\u001b[43m(\u001b[49m\u001b[43mfname\u001b[49m\u001b[43m,\u001b[49m\u001b[43m \u001b[49m\u001b[43mdtype\u001b[49m\u001b[38;5;241;43m=\u001b[39;49m\u001b[43mdtype\u001b[49m\u001b[43m,\u001b[49m\u001b[43m \u001b[49m\u001b[43mcomment\u001b[49m\u001b[38;5;241;43m=\u001b[39;49m\u001b[43mcomment\u001b[49m\u001b[43m,\u001b[49m\u001b[43m \u001b[49m\u001b[43mdelimiter\u001b[49m\u001b[38;5;241;43m=\u001b[39;49m\u001b[43mdelimiter\u001b[49m\u001b[43m,\u001b[49m\n\u001b[0;32m   1339\u001b[0m \u001b[43m            \u001b[49m\u001b[43mconverters\u001b[49m\u001b[38;5;241;43m=\u001b[39;49m\u001b[43mconverters\u001b[49m\u001b[43m,\u001b[49m\u001b[43m \u001b[49m\u001b[43mskiplines\u001b[49m\u001b[38;5;241;43m=\u001b[39;49m\u001b[43mskiprows\u001b[49m\u001b[43m,\u001b[49m\u001b[43m \u001b[49m\u001b[43musecols\u001b[49m\u001b[38;5;241;43m=\u001b[39;49m\u001b[43musecols\u001b[49m\u001b[43m,\u001b[49m\n\u001b[0;32m   1340\u001b[0m \u001b[43m            \u001b[49m\u001b[43munpack\u001b[49m\u001b[38;5;241;43m=\u001b[39;49m\u001b[43munpack\u001b[49m\u001b[43m,\u001b[49m\u001b[43m \u001b[49m\u001b[43mndmin\u001b[49m\u001b[38;5;241;43m=\u001b[39;49m\u001b[43mndmin\u001b[49m\u001b[43m,\u001b[49m\u001b[43m \u001b[49m\u001b[43mencoding\u001b[49m\u001b[38;5;241;43m=\u001b[39;49m\u001b[43mencoding\u001b[49m\u001b[43m,\u001b[49m\n\u001b[0;32m   1341\u001b[0m \u001b[43m            \u001b[49m\u001b[43mmax_rows\u001b[49m\u001b[38;5;241;43m=\u001b[39;49m\u001b[43mmax_rows\u001b[49m\u001b[43m,\u001b[49m\u001b[43m \u001b[49m\u001b[43mquote\u001b[49m\u001b[38;5;241;43m=\u001b[39;49m\u001b[43mquotechar\u001b[49m\u001b[43m)\u001b[49m\n\u001b[0;32m   1343\u001b[0m \u001b[38;5;28;01mreturn\u001b[39;00m arr\n",
      "File \u001b[1;32m~\\anaconda3\\lib\\site-packages\\numpy\\lib\\npyio.py:999\u001b[0m, in \u001b[0;36m_read\u001b[1;34m(fname, delimiter, comment, quote, imaginary_unit, usecols, skiplines, max_rows, converters, ndmin, unpack, dtype, encoding)\u001b[0m\n\u001b[0;32m    996\u001b[0m     data \u001b[38;5;241m=\u001b[39m _preprocess_comments(data, comments, encoding)\n\u001b[0;32m    998\u001b[0m \u001b[38;5;28;01mif\u001b[39;00m read_dtype_via_object_chunks \u001b[38;5;129;01mis\u001b[39;00m \u001b[38;5;28;01mNone\u001b[39;00m:\n\u001b[1;32m--> 999\u001b[0m     arr \u001b[38;5;241m=\u001b[39m \u001b[43m_load_from_filelike\u001b[49m\u001b[43m(\u001b[49m\n\u001b[0;32m   1000\u001b[0m \u001b[43m        \u001b[49m\u001b[43mdata\u001b[49m\u001b[43m,\u001b[49m\u001b[43m \u001b[49m\u001b[43mdelimiter\u001b[49m\u001b[38;5;241;43m=\u001b[39;49m\u001b[43mdelimiter\u001b[49m\u001b[43m,\u001b[49m\u001b[43m \u001b[49m\u001b[43mcomment\u001b[49m\u001b[38;5;241;43m=\u001b[39;49m\u001b[43mcomment\u001b[49m\u001b[43m,\u001b[49m\u001b[43m \u001b[49m\u001b[43mquote\u001b[49m\u001b[38;5;241;43m=\u001b[39;49m\u001b[43mquote\u001b[49m\u001b[43m,\u001b[49m\n\u001b[0;32m   1001\u001b[0m \u001b[43m        \u001b[49m\u001b[43mimaginary_unit\u001b[49m\u001b[38;5;241;43m=\u001b[39;49m\u001b[43mimaginary_unit\u001b[49m\u001b[43m,\u001b[49m\n\u001b[0;32m   1002\u001b[0m \u001b[43m        \u001b[49m\u001b[43musecols\u001b[49m\u001b[38;5;241;43m=\u001b[39;49m\u001b[43musecols\u001b[49m\u001b[43m,\u001b[49m\u001b[43m \u001b[49m\u001b[43mskiplines\u001b[49m\u001b[38;5;241;43m=\u001b[39;49m\u001b[43mskiplines\u001b[49m\u001b[43m,\u001b[49m\u001b[43m \u001b[49m\u001b[43mmax_rows\u001b[49m\u001b[38;5;241;43m=\u001b[39;49m\u001b[43mmax_rows\u001b[49m\u001b[43m,\u001b[49m\n\u001b[0;32m   1003\u001b[0m \u001b[43m        \u001b[49m\u001b[43mconverters\u001b[49m\u001b[38;5;241;43m=\u001b[39;49m\u001b[43mconverters\u001b[49m\u001b[43m,\u001b[49m\u001b[43m \u001b[49m\u001b[43mdtype\u001b[49m\u001b[38;5;241;43m=\u001b[39;49m\u001b[43mdtype\u001b[49m\u001b[43m,\u001b[49m\n\u001b[0;32m   1004\u001b[0m \u001b[43m        \u001b[49m\u001b[43mencoding\u001b[49m\u001b[38;5;241;43m=\u001b[39;49m\u001b[43mencoding\u001b[49m\u001b[43m,\u001b[49m\u001b[43m \u001b[49m\u001b[43mfilelike\u001b[49m\u001b[38;5;241;43m=\u001b[39;49m\u001b[43mfilelike\u001b[49m\u001b[43m,\u001b[49m\n\u001b[0;32m   1005\u001b[0m \u001b[43m        \u001b[49m\u001b[43mbyte_converters\u001b[49m\u001b[38;5;241;43m=\u001b[39;49m\u001b[43mbyte_converters\u001b[49m\u001b[43m)\u001b[49m\n\u001b[0;32m   1007\u001b[0m \u001b[38;5;28;01melse\u001b[39;00m:\n\u001b[0;32m   1008\u001b[0m     \u001b[38;5;66;03m# This branch reads the file into chunks of object arrays and then\u001b[39;00m\n\u001b[0;32m   1009\u001b[0m     \u001b[38;5;66;03m# casts them to the desired actual dtype.  This ensures correct\u001b[39;00m\n\u001b[0;32m   1010\u001b[0m     \u001b[38;5;66;03m# string-length and datetime-unit discovery (like `arr.astype()`).\u001b[39;00m\n\u001b[0;32m   1011\u001b[0m     \u001b[38;5;66;03m# Due to chunking, certain error reports are less clear, currently.\u001b[39;00m\n\u001b[0;32m   1012\u001b[0m     \u001b[38;5;28;01mif\u001b[39;00m filelike:\n",
      "\u001b[1;31mValueError\u001b[0m: could not convert string '0.000000000000000000e+00,2.000000000000000000e+00' to float64 at row 0, column 1."
     ]
    }
   ],
   "source": [
    "np.loadtxt(\"npa_2d.csv\")"
   ]
  },
  {
   "cell_type": "code",
   "execution_count": 119,
   "id": "b0317e07-0408-4e33-9148-aa1de47540aa",
   "metadata": {},
   "outputs": [
    {
     "data": {
      "text/plain": [
       "array([[0., 2.],\n",
       "       [3., 0.],\n",
       "       [3., 4.]])"
      ]
     },
     "execution_count": 119,
     "metadata": {},
     "output_type": "execute_result"
    }
   ],
   "source": [
    "np.loadtxt(\"npa_2d.csv\", delimiter = \",\")"
   ]
  },
  {
   "cell_type": "code",
   "execution_count": 120,
   "id": "13fd694f-f059-4749-b421-6bea56e0ccd1",
   "metadata": {},
   "outputs": [],
   "source": [
    "# 另一种方式的存储\n",
    "np.save(\"data.npy\", npa_2d)"
   ]
  },
  {
   "cell_type": "code",
   "execution_count": 121,
   "id": "d50a2423-f67f-4f12-9e8e-1f8ec33e640d",
   "metadata": {},
   "outputs": [
    {
     "data": {
      "text/plain": [
       "array([[0., 2.],\n",
       "       [3., 0.],\n",
       "       [3., 4.]])"
      ]
     },
     "execution_count": 121,
     "metadata": {},
     "output_type": "execute_result"
    }
   ],
   "source": [
    "# 导入\n",
    "np.load(\"data.npy\")"
   ]
  },
  {
   "cell_type": "markdown",
   "id": "4fb3ca39-d5a5-4d66-b438-e048982aaee8",
   "metadata": {},
   "source": [
    "## Concatenate and Sorting"
   ]
  },
  {
   "cell_type": "code",
   "execution_count": 122,
   "id": "8dab0ae3-067c-43f1-be49-67925d7880d7",
   "metadata": {},
   "outputs": [
    {
     "data": {
      "text/plain": [
       "array([[0., 2.],\n",
       "       [3., 0.],\n",
       "       [3., 4.]])"
      ]
     },
     "execution_count": 122,
     "metadata": {},
     "output_type": "execute_result"
    }
   ],
   "source": [
    "npa_2d"
   ]
  },
  {
   "cell_type": "code",
   "execution_count": 123,
   "id": "e91beede-4623-4266-873e-fe3ae8a75676",
   "metadata": {},
   "outputs": [
    {
     "data": {
      "text/plain": [
       "array([[0., 2.],\n",
       "       [3., 0.],\n",
       "       [3., 4.],\n",
       "       [0., 2.],\n",
       "       [3., 0.],\n",
       "       [3., 4.]])"
      ]
     },
     "execution_count": 123,
     "metadata": {},
     "output_type": "execute_result"
    }
   ],
   "source": [
    "np.concatenate([npa_2d, npa_2d], axis = 0)"
   ]
  },
  {
   "cell_type": "code",
   "execution_count": 124,
   "id": "5c0b2684-1076-4d10-8d10-b14cf007b79c",
   "metadata": {},
   "outputs": [
    {
     "ename": "ValueError",
     "evalue": "all the input arrays must have same number of dimensions, but the array at index 0 has 2 dimension(s) and the array at index 1 has 1 dimension(s)",
     "output_type": "error",
     "traceback": [
      "\u001b[1;31m---------------------------------------------------------------------------\u001b[0m",
      "\u001b[1;31mValueError\u001b[0m                                Traceback (most recent call last)",
      "Cell \u001b[1;32mIn[124], line 1\u001b[0m\n\u001b[1;32m----> 1\u001b[0m \u001b[43mnp\u001b[49m\u001b[38;5;241;43m.\u001b[39;49m\u001b[43mconcatenate\u001b[49m\u001b[43m(\u001b[49m\u001b[43m[\u001b[49m\u001b[43mnpa_2d\u001b[49m\u001b[43m,\u001b[49m\u001b[43m \u001b[49m\u001b[43mnpa\u001b[49m\u001b[43m]\u001b[49m\u001b[43m,\u001b[49m\u001b[43m \u001b[49m\u001b[43maxis\u001b[49m\u001b[43m \u001b[49m\u001b[38;5;241;43m=\u001b[39;49m\u001b[43m \u001b[49m\u001b[38;5;241;43m1\u001b[39;49m\u001b[43m)\u001b[49m\n",
      "File \u001b[1;32m<__array_function__ internals>:180\u001b[0m, in \u001b[0;36mconcatenate\u001b[1;34m(*args, **kwargs)\u001b[0m\n",
      "\u001b[1;31mValueError\u001b[0m: all the input arrays must have same number of dimensions, but the array at index 0 has 2 dimension(s) and the array at index 1 has 1 dimension(s)"
     ]
    }
   ],
   "source": [
    "np.concatenate([npa_2d, npa], axis = 1)"
   ]
  },
  {
   "cell_type": "markdown",
   "id": "b487764b-fa75-49c2-bec0-521c6ecb2207",
   "metadata": {},
   "source": [
    "可以发现必须大小相同。"
   ]
  },
  {
   "cell_type": "markdown",
   "id": "85bf2ad8-9ce5-4dff-8b74-cefe9ada3cd2",
   "metadata": {},
   "source": [
    "## Working With Dates"
   ]
  },
  {
   "cell_type": "code",
   "execution_count": 125,
   "id": "3f166d8e-760c-4f2b-8858-3a6388516c67",
   "metadata": {},
   "outputs": [
    {
     "ename": "ValueError",
     "evalue": "Error parsing datetime string \"2020-12-1 23:34:23\" at position 8",
     "output_type": "error",
     "traceback": [
      "\u001b[1;31m---------------------------------------------------------------------------\u001b[0m",
      "\u001b[1;31mValueError\u001b[0m                                Traceback (most recent call last)",
      "Cell \u001b[1;32mIn[125], line 1\u001b[0m\n\u001b[1;32m----> 1\u001b[0m d \u001b[38;5;241m=\u001b[39m \u001b[43mnp\u001b[49m\u001b[38;5;241;43m.\u001b[39;49m\u001b[43mdatetime64\u001b[49m\u001b[43m(\u001b[49m\u001b[38;5;124;43m'\u001b[39;49m\u001b[38;5;124;43m2020-12-1 23:34:23\u001b[39;49m\u001b[38;5;124;43m'\u001b[39;49m\u001b[43m)\u001b[49m\n",
      "\u001b[1;31mValueError\u001b[0m: Error parsing datetime string \"2020-12-1 23:34:23\" at position 8"
     ]
    }
   ],
   "source": [
    "d = np.datetime64('2020-12-1 23:34:23')"
   ]
  },
  {
   "cell_type": "code",
   "execution_count": 126,
   "id": "76c50849-8fb5-4ac4-a244-4651ad536bfc",
   "metadata": {},
   "outputs": [],
   "source": [
    "d = np.datetime64(\"2020-12-01 23:34:23\")"
   ]
  },
  {
   "cell_type": "code",
   "execution_count": 127,
   "id": "af7915fa-255e-401a-bc9a-edc5ef3f0c3d",
   "metadata": {},
   "outputs": [
    {
     "data": {
      "text/plain": [
       "numpy.datetime64('2020-12-01T23:34:23')"
      ]
     },
     "execution_count": 127,
     "metadata": {},
     "output_type": "execute_result"
    }
   ],
   "source": [
    "d"
   ]
  },
  {
   "cell_type": "code",
   "execution_count": 128,
   "id": "5f69ea28-a31b-4b24-b010-24574a701bb5",
   "metadata": {},
   "outputs": [
    {
     "data": {
      "text/plain": [
       "numpy.datetime64('2020-12-01T23:34:33')"
      ]
     },
     "execution_count": 128,
     "metadata": {},
     "output_type": "execute_result"
    }
   ],
   "source": [
    "d + 10  # 会在最后 + 10"
   ]
  },
  {
   "cell_type": "code",
   "execution_count": 129,
   "id": "2543ef56-4ffa-4b23-8df2-a37cc1fd1650",
   "metadata": {},
   "outputs": [],
   "source": [
    "oneday = np.timedelta64(1, \"D\")"
   ]
  },
  {
   "cell_type": "code",
   "execution_count": 130,
   "id": "671de424-53a0-4bbf-82b5-e68420caeb79",
   "metadata": {},
   "outputs": [
    {
     "data": {
      "text/plain": [
       "numpy.timedelta64(1,'D')"
      ]
     },
     "execution_count": 130,
     "metadata": {},
     "output_type": "execute_result"
    }
   ],
   "source": [
    "oneday"
   ]
  },
  {
   "cell_type": "code",
   "execution_count": 131,
   "id": "9d65807c-d171-40c9-b1f0-ea1ab042ab62",
   "metadata": {},
   "outputs": [
    {
     "data": {
      "text/plain": [
       "numpy.datetime64('2020-12-02T23:34:23')"
      ]
     },
     "execution_count": 131,
     "metadata": {},
     "output_type": "execute_result"
    }
   ],
   "source": [
    "d + oneday"
   ]
  }
 ],
 "metadata": {
  "kernelspec": {
   "display_name": "Python 3 (ipykernel)",
   "language": "python",
   "name": "python3"
  },
  "language_info": {
   "codemirror_mode": {
    "name": "ipython",
    "version": 3
   },
   "file_extension": ".py",
   "mimetype": "text/x-python",
   "name": "python",
   "nbconvert_exporter": "python",
   "pygments_lexer": "ipython3",
   "version": "3.10.9"
  }
 },
 "nbformat": 4,
 "nbformat_minor": 5
}
